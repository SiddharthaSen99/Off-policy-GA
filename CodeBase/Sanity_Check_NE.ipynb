{
 "cells": [
  {
   "cell_type": "code",
   "execution_count": 43,
   "metadata": {},
   "outputs": [],
   "source": [
    "import gym\n",
    "import numpy as np\n",
    "import torch\n",
    "import matplotlib.pyplot as plt\n",
    "import time\n",
    "from statistics import mean"
   ]
  },
  {
   "cell_type": "code",
   "execution_count": 44,
   "metadata": {},
   "outputs": [],
   "source": [
    "from gym.wrappers import Monitor"
   ]
  },
  {
   "cell_type": "code",
   "execution_count": 45,
   "metadata": {},
   "outputs": [],
   "source": [
    "import torch.nn as nn\n",
    "import torch.nn.functional as F\n",
    "import torch.optim as optim"
   ]
  },
  {
   "cell_type": "code",
   "execution_count": 46,
   "metadata": {},
   "outputs": [],
   "source": [
    "import math\n",
    "import copy\n",
    "from torch.distributions import Categorical\n",
    "device = torch.device(\"cuda:0\" if torch.cuda.is_available() else \"cpu\")"
   ]
  },
  {
   "cell_type": "code",
   "execution_count": 47,
   "metadata": {},
   "outputs": [],
   "source": [
    "#Hyper-parameters\n",
    "max_episodes = 1000          # max training episodes\n",
    "max_timesteps = 250          # max timesteps in one episode\n",
    "gamma = 0.01                # discount factor\n",
    "gamma1 = 0.99\n",
    "epsilon = 0.2                #need to change it to max(advantage)\n",
    "dkl=1                       #need to change it to KL divergence between old and new policies\n",
    "Q_r=[]\n",
    "Q_r1=[]\n",
    "a=[]\n",
    "Q=np.zeros((max_timesteps,2))\n",
    "mutation_power = 0.02#hyper-parameter, set from https://arxiv.org/pdf/1712.06567.pdf\n",
    "#print(Q)"
   ]
  },
  {
   "cell_type": "code",
   "execution_count": 48,
   "metadata": {},
   "outputs": [],
   "source": [
    "class CartPoleAI(nn.Module):\n",
    "        def __init__(self):\n",
    "            super().__init__()\n",
    "            self.fc = nn.Sequential(\n",
    "                        nn.Linear(4,128, bias=True),\n",
    "                        nn.ReLU(),\n",
    "                        nn.Linear(128,2, bias=True),\n",
    "                        nn.Softmax(dim=1)\n",
    "                        )\n",
    "\n",
    "                \n",
    "        def forward(self, inputs):\n",
    "            x = self.fc(inputs)\n",
    "            return x"
   ]
  },
  {
   "cell_type": "code",
   "execution_count": 49,
   "metadata": {},
   "outputs": [],
   "source": [
    "def init_weights(m):\n",
    "    \n",
    "        # nn.Conv2d weights are of shape [16, 1, 3, 3] i.e. # number of filters, 1, stride, stride\n",
    "        # nn.Conv2d bias is of shape [16] i.e. # number of filters\n",
    "        \n",
    "        # nn.Linear weights are of shape [32, 24336] i.e. # number of input features, number of output features\n",
    "        # nn.Linear bias is of shape [32] i.e. # number of output features\n",
    "        \n",
    "        if ((type(m) == nn.Linear) | (type(m) == nn.Conv2d)):\n",
    "            torch.nn.init.xavier_uniform(m.weight)\n",
    "            m.bias.data.fill_(0.00)"
   ]
  },
  {
   "cell_type": "code",
   "execution_count": 50,
   "metadata": {},
   "outputs": [],
   "source": [
    "def behavioural_policy(agents):\n",
    "    return agent"
   ]
  },
  {
   "cell_type": "code",
   "execution_count": 51,
   "metadata": {},
   "outputs": [],
   "source": [
    "def KL_divergence(agent1,agent2):\n",
    "    return KL"
   ]
  },
  {
   "cell_type": "code",
   "execution_count": 52,
   "metadata": {},
   "outputs": [],
   "source": [
    "def return_random_agents(num_agents):\n",
    "    \n",
    "    agents = []\n",
    "    for _ in range(num_agents):\n",
    "        \n",
    "        agent = CartPoleAI()\n",
    "        \n",
    "        for param in agent.parameters():\n",
    "            param.requires_grad = False\n",
    "            \n",
    "        init_weights(agent)\n",
    "        agents.append(agent)\n",
    "        \n",
    "        \n",
    "    return agents"
   ]
  },
  {
   "cell_type": "code",
   "execution_count": 53,
   "metadata": {},
   "outputs": [],
   "source": [
    "def run_agents(agents):\n",
    "    \n",
    "    reward_agents = []\n",
    "    env = gym.make(\"CartPole-v0\")\n",
    "    #print(\"Enter\")\n",
    "    for agent in agents:#There is only one agent in the list. But it is necessary to pass the agents in the form of lists to make it iterable and work on it\n",
    "        agent.eval()\n",
    "        #print(\"HELLLO!!!!!!\")\n",
    "        observation = env.reset()\n",
    "        r=0\n",
    "        a.clear()\n",
    "        Q_r1.clear()\n",
    "        Q_r.clear()\n",
    "        for i in range(max_timesteps):\n",
    "            \n",
    "            inp = torch.tensor(observation).type('torch.FloatTensor').view(1,-1)\n",
    "            output_probabilities = agent(inp).detach().numpy()[0]\n",
    "            #print(output_probabilities)\n",
    "            Q[i][0]=output_probabilities[0]\n",
    "            Q[i][1]=output_probabilities[1]\n",
    "            action = np.random.choice(range(game_actions), 1, p=output_probabilities).item()\n",
    "            a.append(action)\n",
    "            new_observation, reward, done, info = env.step(action)\n",
    "            #r+=(gamma1**i)*reward\n",
    "            Q_r.append(reward)\n",
    "            observation = new_observation\n",
    "            if(done):\n",
    "                break\n",
    "\n",
    "        #reward_agents.append(r)\n",
    "        #reward_agents.append(s)\n",
    "        #print(\"Non-discounted Reward:::\",Q_r)\n",
    "        #for rew in reversed(Q_r):\n",
    "        #    if rew==Q_r[len(Q_r)-1]:\n",
    "        #        d_r=0\n",
    "        #    else:\n",
    "        #        d_r=rew+gamma1*d_r\n",
    "        #    Q_r1.insert(0,d_r)\n",
    "        for i in range(len(Q_r)):\n",
    "            d_r=0\n",
    "            c=0\n",
    "            for j in range(i+1,len(Q_r)):\n",
    "                d_r+=(gamma1**c)*Q_r[j]\n",
    "                c+=1\n",
    "            Q_r1.append(d_r)\n",
    "            \n",
    "        reward_agents.append(sum(Q_r1))\n",
    "    #print(\"Exit\")\n",
    "    #Q=Q[~np.all(Q==0,axis=1)]\n",
    "    #print(\"Reward:::\",reward_agents)\n",
    "    #print(\"Probabilities:::\",Q)\n",
    "    #print(\"Actions:::\",a)\n",
    "    #for i in range()\n",
    "    #print(\"Discounted Reward,i.e,Q:::\",Q_r1)\n",
    "    \n",
    "    \n",
    "    return reward_agents"
   ]
  },
  {
   "cell_type": "code",
   "execution_count": 54,
   "metadata": {},
   "outputs": [],
   "source": [
    "def run_target_agents(agents):\n",
    "    \n",
    "    reward_agents = []\n",
    "    env = gym.make(\"CartPole-v0\")\n",
    "    #print(\"Enter\")\n",
    "    for agent in agents:#There is only one agent in the list. But it is necessary to pass the agents in the form of lists to make it iterable and work on it\n",
    "        agent.eval()\n",
    "        #print(\"HELLLO!!!!!!\")\n",
    "        observation = env.reset()\n",
    "        r=0\n",
    "        s=0\n",
    "        i=0\n",
    "        #print(\"SIZE OF ACTIONS:\",len(a),\"SIZE OF PROBABILITIES:\",Q.shape,\"SIZE OF DISCOUNTED REWARDS:\",len(Q_r1))\n",
    "        for i in range(len(Q_r1)):\n",
    "            \n",
    "            inp = torch.tensor(observation).type('torch.FloatTensor').view(1,-1)\n",
    "            output_probabilities = agent(inp).detach().numpy()[0]\n",
    "            L_pi=(output_probabilities[a[i]]/Q[i][a[i]])*Q_r1[i]\n",
    "            #print(\"Ratios :\",output_probabilities[a[i]]/Q[i][a[i]])\n",
    "            #print(\"Q value:\",Q_r1[i])\n",
    "            #print(\"L_pi\",L_pi)\n",
    "            #surr1= L_pi-(4*max(Q_r1)*gamma*dkl/np.square(1-gamma))\n",
    "            \n",
    "            #print(output_probabilities)\n",
    "            s+=L_pi\n",
    "            action = np.random.choice(range(game_actions), 1, p=output_probabilities).item()\n",
    "            new_observation, reward, done, info = env.step(action)\n",
    "            #r+=(gamma**i)*reward\n",
    "            \n",
    "            #s=s+1\n",
    "            observation = new_observation\n",
    "\n",
    "            if(done):\n",
    "                break\n",
    "        #print(\"S:\",s)\n",
    "        #print(\"Max Q_r1:\",max(Q_r1))\n",
    "        #surr1= s-(4*max(Q_r1)*gamma*dkl/np.square(1-gamma))\n",
    "        #print(\"Surr1:\",surr1)\n",
    "        #reward_agents.append(surr1)        \n",
    "        reward_agents.append(s)\n",
    "    #print(\"Exit\")\n",
    "    #print(\"REWARD AGENTS\",reward_agents)\n",
    "    #print(reward_agents)\n",
    "    return reward_agents"
   ]
  },
  {
   "cell_type": "code",
   "execution_count": 55,
   "metadata": {},
   "outputs": [],
   "source": [
    "def alternate_average_score(agent, runs):\n",
    "    score = 0.\n",
    "    for i in range(runs):\n",
    "        score += run_target_agents([agent])[0]\n",
    "    return score/runs"
   ]
  },
  {
   "cell_type": "code",
   "execution_count": 56,
   "metadata": {},
   "outputs": [],
   "source": [
    "def return_average_score(agent, runs):\n",
    "    score = 0.\n",
    "    for i in range(runs):\n",
    "        score += run_agents([agent])[0]\n",
    "    return score/runs"
   ]
  },
  {
   "cell_type": "code",
   "execution_count": 57,
   "metadata": {},
   "outputs": [],
   "source": [
    "def run_agents_n_times(agents, runs):\n",
    "    avg_score = []\n",
    "    index = 0\n",
    "    for agent in agents:\n",
    "        if index==0:\n",
    "            avg_score.append(return_average_score(agent,runs))\n",
    "        else:\n",
    "            avg_score.append(alternate_average_score(agent,runs))\n",
    "        index+=1\n",
    "    return avg_score"
   ]
  },
  {
   "cell_type": "code",
   "execution_count": 58,
   "metadata": {},
   "outputs": [],
   "source": [
    "def run_agents_n_times_again(agents, runs):\n",
    "    avg_score = []\n",
    "    for agent in agents:\n",
    "        avg_score.append(return_average_score(agent,runs))\n",
    "    return avg_score"
   ]
  },
  {
   "cell_type": "code",
   "execution_count": 59,
   "metadata": {},
   "outputs": [],
   "source": [
    "def mutate(agent):\n",
    "\n",
    "    child_agent = copy.deepcopy(agent)\n",
    "            \n",
    "    for param in child_agent.parameters():\n",
    "    \n",
    "        if(len(param.shape)==4): #weights of Conv2D\n",
    "\n",
    "            for i0 in range(param.shape[0]):\n",
    "                for i1 in range(param.shape[1]):\n",
    "                    for i2 in range(param.shape[2]):\n",
    "                        for i3 in range(param.shape[3]):\n",
    "                            \n",
    "                            param[i0][i1][i2][i3]+= mutation_power * np.random.rand()\n",
    "                                \n",
    "                                    \n",
    "\n",
    "        elif(len(param.shape)==2): #weights of linear layer\n",
    "            for i0 in range(param.shape[0]):\n",
    "                for i1 in range(param.shape[1]):\n",
    "                    \n",
    "                    param[i0][i1]+= mutation_power * np.random.randn()\n",
    "                        \n",
    "\n",
    "        elif(len(param.shape)==1): #biases of linear layer or conv layer\n",
    "            for i0 in range(param.shape[0]):\n",
    "                \n",
    "                param[i0]+=mutation_power * np.random.randn()\n",
    "\n",
    "    return child_agent"
   ]
  },
  {
   "cell_type": "code",
   "execution_count": 60,
   "metadata": {},
   "outputs": [],
   "source": [
    "def return_children(agents, sorted_parent_indexes, elite_index):\n",
    "    \n",
    "    children_agents = []\n",
    "    \n",
    "    #first take selected parents from sorted_parent_indexes and generate N-1 children\n",
    "    for i in range(len(agents)-1):\n",
    "        \n",
    "        selected_agent_index = sorted_parent_indexes[np.random.randint(len(sorted_parent_indexes))]\n",
    "        children_agents.append(mutate(agents[selected_agent_index]))\n",
    "\n",
    "    #now add one elite\n",
    "    elite_child = add_elite(agents, sorted_parent_indexes, elite_index)\n",
    "    children_agents.append(elite_child)\n",
    "    elite_index=len(children_agents)-1 #it is the last one\n",
    "    \n",
    "    return children_agents, elite_index"
   ]
  },
  {
   "cell_type": "code",
   "execution_count": 61,
   "metadata": {},
   "outputs": [],
   "source": [
    "def add_elite(agents, sorted_parent_indexes, elite_index=None, only_consider_top_n=10):\n",
    "    \n",
    "    candidate_elite_index = sorted_parent_indexes[:only_consider_top_n]\n",
    "    \n",
    "    if(elite_index is not None):\n",
    "        candidate_elite_index = np.append(candidate_elite_index,[elite_index])\n",
    "        \n",
    "    top_score = None\n",
    "    top_elite_index = None\n",
    "    \n",
    "    for i in candidate_elite_index:\n",
    "        score = return_average_score(agents[i],runs=5)\n",
    "        print(\"Score for elite i \", i, \" is \", score)\n",
    "        \n",
    "        if(top_score is None):\n",
    "            top_score = score\n",
    "            top_elite_index = i\n",
    "        elif(score > top_score):\n",
    "            top_score = score\n",
    "            top_elite_index = i\n",
    "            \n",
    "    print(\"Elite selected with index \",top_elite_index, \" and score\", top_score)\n",
    "    \n",
    "    child_agent = copy.deepcopy(agents[top_elite_index])\n",
    "    return child_agent"
   ]
  },
  {
   "cell_type": "code",
   "execution_count": 62,
   "metadata": {},
   "outputs": [],
   "source": [
    "def softmax(x):\n",
    "    \"\"\"Compute softmax values for each sets of scores in x.\"\"\"\n",
    "    return np.exp(x) / np.sum(np.exp(x), axis=0)"
   ]
  },
  {
   "cell_type": "code",
   "execution_count": 63,
   "metadata": {},
   "outputs": [
    {
     "name": "stdout",
     "output_type": "stream",
     "text": [
      "Eta_pi : [295.6457076762171, 221.33122317634042, 292.45895669153236, 245.8078501965735, 351.15591924517815, 233.04280759496726, 328.030186981833, 197.2532557164151, 305.819410544545, 226.6482515782398]\n",
      "Corresponding L_pi values : [340.47260175023416, 399.3061551256914, 385.7814004419628, 405.0286616991664, 455.1297680717052, 401.5894006432809, 430.58646324159423, 378.7733874766833, 424.1935609335512, 405.37239162190673]\n"
     ]
    },
    {
     "data": {
      "image/png": "[encoded data removed]",
      "text/plain": [
       "<Figure size 432x288 with 1 Axes>"
      ]
     },
     "metadata": {
      "needs_background": "light"
     },
     "output_type": "display_data"
    }
   ],
   "source": [
    "game_actions = 2 #2 actions possible: left or right\n",
    "\n",
    "#disable gradients as we will not use them\n",
    "torch.set_grad_enabled(False)\n",
    "\n",
    "# initialize N number of agents\n",
    "num_agents = 10\n",
    "agents = return_random_agents(num_agents)\n",
    "\n",
    "elite_index = None\n",
    "\n",
    "rewards = run_agents_n_times(agents, 100) #return average of multiple runs\n",
    "rewards2 = run_agents_n_times_again(agents,100)\n",
    "\n",
    "print(\"Eta_pi :\",rewards2)\n",
    "print(\"Corresponding L_pi values :\",rewards)\n",
    "\n",
    "xpoints = [1,2,3,4,5,6,7,8,9,10]\n",
    "plt.plot(xpoints,rewards)\n",
    "plt.plot(xpoints,rewards2)\n",
    "plt.title('Eta_pi vs L_pi:Comparison')\n",
    "plt.xlabel('Policies')\n",
    "plt.ylabel('Eta_pi(Orange) vs L_pi(Blue)')\n",
    "plt.show()\n",
    "\n",
    "    "
   ]
  }
 ],
 "metadata": {
  "kernelspec": {
   "display_name": "Python 3",
   "language": "python",
   "name": "python3"
  },
  "language_info": {
   "codemirror_mode": {
    "name": "ipython",
    "version": 3
   },
   "file_extension": ".py",
   "mimetype": "text/x-python",
   "name": "python",
   "nbconvert_exporter": "python",
   "pygments_lexer": "ipython3",
   "version": "3.7.6"
  }
 },
 "nbformat": 4,
 "nbformat_minor": 2
}

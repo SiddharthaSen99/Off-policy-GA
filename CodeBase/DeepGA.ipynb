{
  "nbformat": 4,
  "nbformat_minor": 0,
  "metadata": {
    "colab": {
      "name": "DeepGA.ipynb",
      "provenance": [],
      "collapsed_sections": []
    },
    "kernelspec": {
      "name": "python3",
      "display_name": "Python 3"
    },
    "accelerator": "GPU"
  },
  "cells": [
    {
      "cell_type": "code",
      "metadata": {
        "id": "a0wrfgKoFWfC",
        "colab_type": "code",
        "colab": {
          "base_uri": "https://localhost:8080/",
          "height": 140
        },
        "outputId": "19808e04-3ffa-4fa5-8648-b0be0270bb9b"
      },
      "source": [
        "!git clone https://github.com/uber-common/deep-neuroevolution.git"
      ],
      "execution_count": null,
      "outputs": [
        {
          "output_type": "stream",
          "text": [
            "Cloning into 'deep-neuroevolution'...\n",
            "remote: Enumerating objects: 3, done.\u001b[K\n",
            "remote: Counting objects:  33% (1/3)\u001b[K\rremote: Counting objects:  66% (2/3)\u001b[K\rremote: Counting objects: 100% (3/3)\u001b[K\rremote: Counting objects: 100% (3/3), done.\u001b[K\n",
            "remote: Compressing objects:  33% (1/3)\u001b[K\rremote: Compressing objects:  66% (2/3)\u001b[K\rremote: Compressing objects: 100% (3/3)\u001b[K\rremote: Compressing objects: 100% (3/3), done.\u001b[K\n",
            "Receiving objects:   0% (1/299)   \rReceiving objects:   1% (3/299)   \rReceiving objects:   2% (6/299)   \rReceiving objects:   3% (9/299)   \rReceiving objects:   4% (12/299)   \rReceiving objects:   5% (15/299)   \rReceiving objects:   6% (18/299)   \rReceiving objects:   7% (21/299)   \rReceiving objects:   8% (24/299)   \rReceiving objects:   9% (27/299)   \rReceiving objects:  10% (30/299)   \rReceiving objects:  11% (33/299)   \rReceiving objects:  12% (36/299)   \rReceiving objects:  13% (39/299)   \rReceiving objects:  14% (42/299)   \rReceiving objects:  15% (45/299)   \rReceiving objects:  16% (48/299)   \rReceiving objects:  17% (51/299)   \rReceiving objects:  18% (54/299)   \rReceiving objects:  19% (57/299)   \rReceiving objects:  20% (60/299)   \rReceiving objects:  21% (63/299)   \rReceiving objects:  22% (66/299)   \rReceiving objects:  23% (69/299)   \rReceiving objects:  24% (72/299)   \rReceiving objects:  25% (75/299)   \rReceiving objects:  26% (78/299)   \rReceiving objects:  27% (81/299)   \rReceiving objects:  28% (84/299)   \rReceiving objects:  29% (87/299)   \rReceiving objects:  30% (90/299)   \rReceiving objects:  31% (93/299)   \rReceiving objects:  32% (96/299)   \rReceiving objects:  33% (99/299)   \rReceiving objects:  34% (102/299)   \rReceiving objects:  35% (105/299)   \rReceiving objects:  36% (108/299)   \rReceiving objects:  37% (111/299)   \rReceiving objects:  38% (114/299)   \rReceiving objects:  39% (117/299)   \rReceiving objects:  40% (120/299)   \rReceiving objects:  41% (123/299)   \rReceiving objects:  42% (126/299)   \rReceiving objects:  43% (129/299)   \rReceiving objects:  44% (132/299)   \rReceiving objects:  45% (135/299)   \rReceiving objects:  46% (138/299)   \rReceiving objects:  47% (141/299)   \rReceiving objects:  48% (144/299)   \rReceiving objects:  49% (147/299)   \rReceiving objects:  50% (150/299)   \rReceiving objects:  51% (153/299)   \rReceiving objects:  52% (156/299)   \rReceiving objects:  53% (159/299)   \rReceiving objects:  54% (162/299)   \rReceiving objects:  55% (165/299)   \rReceiving objects:  56% (168/299)   \rReceiving objects:  57% (171/299)   \rReceiving objects:  58% (174/299)   \rReceiving objects:  59% (177/299)   \rReceiving objects:  60% (180/299)   \rReceiving objects:  61% (183/299)   \rReceiving objects:  62% (186/299)   \rReceiving objects:  63% (189/299)   \rReceiving objects:  64% (192/299)   \rReceiving objects:  65% (195/299)   \rremote: Total 299 (delta 0), reused 0 (delta 0), pack-reused 296\u001b[K\n",
            "Receiving objects:  66% (198/299)   \rReceiving objects:  67% (201/299)   \rReceiving objects:  68% (204/299)   \rReceiving objects:  69% (207/299)   \rReceiving objects:  70% (210/299)   \rReceiving objects:  71% (213/299)   \rReceiving objects:  72% (216/299)   \rReceiving objects:  73% (219/299)   \rReceiving objects:  74% (222/299)   \rReceiving objects:  75% (225/299)   \rReceiving objects:  76% (228/299)   \rReceiving objects:  77% (231/299)   \rReceiving objects:  78% (234/299)   \rReceiving objects:  79% (237/299)   \rReceiving objects:  80% (240/299)   \rReceiving objects:  81% (243/299)   \rReceiving objects:  82% (246/299)   \rReceiving objects:  83% (249/299)   \rReceiving objects:  84% (252/299)   \rReceiving objects:  85% (255/299)   \rReceiving objects:  86% (258/299)   \rReceiving objects:  87% (261/299)   \rReceiving objects:  88% (264/299)   \rReceiving objects:  89% (267/299)   \rReceiving objects:  90% (270/299)   \rReceiving objects:  91% (273/299)   \rReceiving objects:  92% (276/299)   \rReceiving objects:  93% (279/299)   \rReceiving objects:  94% (282/299)   \rReceiving objects:  95% (285/299)   \rReceiving objects:  96% (288/299)   \rReceiving objects:  97% (291/299)   \rReceiving objects:  98% (294/299)   \rReceiving objects:  99% (297/299)   \rReceiving objects: 100% (299/299)   \rReceiving objects: 100% (299/299), 3.71 MiB | 8.12 MiB/s, done.\n",
            "Resolving deltas:   0% (0/118)   \rResolving deltas:   5% (6/118)   \rResolving deltas:   9% (11/118)   \rResolving deltas:  11% (14/118)   \rResolving deltas:  12% (15/118)   \rResolving deltas:  13% (16/118)   \rResolving deltas:  14% (17/118)   \rResolving deltas:  16% (20/118)   \rResolving deltas:  18% (22/118)   \rResolving deltas:  21% (25/118)   \rResolving deltas:  23% (28/118)   \rResolving deltas:  25% (30/118)   \rResolving deltas:  26% (31/118)   \rResolving deltas:  27% (33/118)   \rResolving deltas:  28% (34/118)   \rResolving deltas:  30% (36/118)   \rResolving deltas:  32% (38/118)   \rResolving deltas:  36% (43/118)   \rResolving deltas:  38% (46/118)   \rResolving deltas:  39% (47/118)   \rResolving deltas:  41% (49/118)   \rResolving deltas:  42% (50/118)   \rResolving deltas:  44% (52/118)   \rResolving deltas:  46% (55/118)   \rResolving deltas:  47% (56/118)   \rResolving deltas:  48% (57/118)   \rResolving deltas:  49% (58/118)   \rResolving deltas:  50% (59/118)   \rResolving deltas:  51% (61/118)   \rResolving deltas:  52% (62/118)   \rResolving deltas:  53% (63/118)   \rResolving deltas:  66% (78/118)   \rResolving deltas:  69% (82/118)   \rResolving deltas:  70% (83/118)   \rResolving deltas:  72% (85/118)   \rResolving deltas:  77% (91/118)   \rResolving deltas:  79% (94/118)   \rResolving deltas:  84% (100/118)   \rResolving deltas:  85% (101/118)   \rResolving deltas:  89% (106/118)   \rResolving deltas: 100% (118/118)   \rResolving deltas: 100% (118/118), done.\n"
          ],
          "name": "stdout"
        }
      ]
    },
    {
      "cell_type": "code",
      "metadata": {
        "id": "dCPCxLhmKbRC",
        "colab_type": "code",
        "colab": {
          "base_uri": "https://localhost:8080/",
          "height": 34
        },
        "outputId": "f6df24dd-0566-464f-c99d-326278261b38"
      },
      "source": [
        "%cd /content/deep-neuroevolution"
      ],
      "execution_count": null,
      "outputs": [
        {
          "output_type": "stream",
          "text": [
            "/content/deep-neuroevolution\n"
          ],
          "name": "stdout"
        }
      ]
    },
    {
      "cell_type": "code",
      "metadata": {
        "id": "DcRgMk3EGAqh",
        "colab_type": "code",
        "colab": {
          "base_uri": "https://localhost:8080/",
          "height": 1000
        },
        "outputId": "0b7a2ed7-4c10-4d80-ca51-592bbfc977c7"
      },
      "source": [
        "!pip install -r requirements.txt"
      ],
      "execution_count": null,
      "outputs": [
        {
          "output_type": "stream",
          "text": [
            "Collecting appdirs==1.4.3\n",
            "  Downloading https://files.pythonhosted.org/packages/56/eb/810e700ed1349edde4cbdc1b2a21e28cdf115f9faf263f6bbf8447c1abf3/appdirs-1.4.3-py2.py3-none-any.whl\n",
            "Collecting click==6.7\n",
            "\u001b[?25l  Downloading https://files.pythonhosted.org/packages/34/c1/8806f99713ddb993c5366c362b2f908f18269f8d792aff1abfd700775a77/click-6.7-py2.py3-none-any.whl (71kB)\n",
            "\r\u001b[K     |████▋                           | 10kB 22.0MB/s eta 0:00:01\r\u001b[K     |█████████▏                      | 20kB 16.6MB/s eta 0:00:01\r\u001b[K     |█████████████▉                  | 30kB 4.3MB/s eta 0:00:01\r\u001b[K     |██████████████████▍             | 40kB 5.6MB/s eta 0:00:01\r\u001b[K     |███████████████████████         | 51kB 5.6MB/s eta 0:00:01\r\u001b[K     |███████████████████████████▋    | 61kB 6.2MB/s eta 0:00:01\r\u001b[K     |████████████████████████████████| 71kB 4.3MB/s \n",
            "\u001b[?25hCollecting gym==0.9.4\n",
            "\u001b[?25l  Downloading https://files.pythonhosted.org/packages/f8/9f/b50f4c04a97e316ebfccae3104e5edbfe7bc1c687ee9ebeca6fa6343d197/gym-0.9.4.tar.gz (157kB)\n",
            "\r\u001b[K     |██                              | 10kB 18.5MB/s eta 0:00:01\r\u001b[K     |████▏                           | 20kB 26.6MB/s eta 0:00:01\r\u001b[K     |██████▎                         | 30kB 31.6MB/s eta 0:00:01\r\u001b[K     |████████▎                       | 40kB 33.8MB/s eta 0:00:01\r\u001b[K     |██████████▍                     | 51kB 23.2MB/s eta 0:00:01\r\u001b[K     |████████████▌                   | 61kB 19.7MB/s eta 0:00:01\r\u001b[K     |██████████████▌                 | 71kB 17.2MB/s eta 0:00:01\r\u001b[K     |████████████████▋               | 81kB 16.1MB/s eta 0:00:01\r\u001b[K     |██████████████████▊             | 92kB 16.1MB/s eta 0:00:01\r\u001b[K     |████████████████████▊           | 102kB 14.9MB/s eta 0:00:01\r\u001b[K     |██████████████████████▉         | 112kB 14.9MB/s eta 0:00:01\r\u001b[K     |█████████████████████████       | 122kB 14.9MB/s eta 0:00:01\r\u001b[K     |███████████████████████████     | 133kB 14.9MB/s eta 0:00:01\r\u001b[K     |█████████████████████████████   | 143kB 14.9MB/s eta 0:00:01\r\u001b[K     |███████████████████████████████▏| 153kB 14.9MB/s eta 0:00:01\r\u001b[K     |████████████████████████████████| 163kB 14.9MB/s \n",
            "\u001b[?25hCollecting h5py==2.7.0\n",
            "\u001b[?25l  Downloading https://files.pythonhosted.org/packages/d4/f9/a449c76cab5d310fc0f7cf56ccb7d531b8abe21dd6395312a5f9e9c330ac/h5py-2.7.0-cp36-cp36m-manylinux1_x86_64.whl (4.8MB)\n",
            "\u001b[K     |████████████████████████████████| 4.8MB 13.3MB/s \n",
            "\u001b[?25hCollecting mujoco-py==0.5.7\n",
            "  Downloading https://files.pythonhosted.org/packages/a7/86/a5a6469d553545a2742b2434931f45679e94871da1a75c803ba75957ea0f/mujoco-py-0.5.7.tar.gz\n",
            "Collecting numpy==1.12.1\n",
            "\u001b[?25l  Downloading https://files.pythonhosted.org/packages/b1/e2/884cfbfd4f21b2313210d1d2ea72ecc381b98826d1b7e6606929ac6c0a08/numpy-1.12.1-cp36-cp36m-manylinux1_x86_64.whl (16.8MB)\n",
            "\u001b[K     |████████████████████████████████| 16.8MB 202kB/s \n",
            "\u001b[?25hCollecting packaging==16.8\n",
            "  Downloading https://files.pythonhosted.org/packages/87/1b/c39b7c65b5612812b83d6cab7ef2885eac9f6beb0b7b8a7071a186aea3b1/packaging-16.8-py2.py3-none-any.whl\n",
            "Collecting pyglet==1.2.4\n",
            "\u001b[?25l  Downloading https://files.pythonhosted.org/packages/68/c3/300c6f92b21886b0fe42c13f3a39a06c6cb90c9fbb1b71da85fe59091a7d/pyglet-1.2.4-py3-none-any.whl (964kB)\n",
            "\u001b[K     |████████████████████████████████| 972kB 48.4MB/s \n",
            "\u001b[?25hCollecting PyOpenGL==3.1.0\n",
            "\u001b[?25l  Downloading https://files.pythonhosted.org/packages/9c/1d/4544708aaa89f26c97cc09450bb333a23724a320923e74d73e028b3560f9/PyOpenGL-3.1.0.tar.gz (1.2MB)\n",
            "\u001b[K     |████████████████████████████████| 1.2MB 30.4MB/s \n",
            "\u001b[?25hCollecting pyparsing==2.2.0\n",
            "\u001b[?25l  Downloading https://files.pythonhosted.org/packages/6a/8a/718fd7d3458f9fab8e67186b00abdd345b639976bc7fb3ae722e1b026a50/pyparsing-2.2.0-py2.py3-none-any.whl (56kB)\n",
            "\u001b[K     |████████████████████████████████| 61kB 9.0MB/s \n",
            "\u001b[?25hCollecting redis==2.10.5\n",
            "\u001b[?25l  Downloading https://files.pythonhosted.org/packages/08/c1/457428f7507e27ba7144758a7b716ea35766e6d602f4a0c16e443ab3d381/redis-2.10.5-py2.py3-none-any.whl (60kB)\n",
            "\u001b[K     |████████████████████████████████| 61kB 9.4MB/s \n",
            "\u001b[?25hRequirement already satisfied: requests>=2.20.0 in /usr/local/lib/python3.6/dist-packages (from -r requirements.txt (line 12)) (2.23.0)\n",
            "Collecting six==1.10.0\n",
            "  Downloading https://files.pythonhosted.org/packages/c8/0a/b6723e1bc4c516cb687841499455a8505b44607ab535be01091c0f24f079/six-1.10.0-py2.py3-none-any.whl\n",
            "Collecting tensorflow==0.12.1\n",
            "\u001b[?25l  Downloading https://files.pythonhosted.org/packages/e9/a5/45b172f20e2fabd19c7f18a44570fc82acc4c628ec9bc4b313de39c4fe37/tensorflow-0.12.1-cp36-cp36m-manylinux1_x86_64.whl (43.1MB)\n",
            "\u001b[K     |████████████████████████████████| 43.1MB 67kB/s \n",
            "\u001b[?25hCollecting Werkzeug==0.12.1\n",
            "\u001b[?25l  Downloading https://files.pythonhosted.org/packages/f6/00/f3aae474bbc18d2e2cb5651935fbdaf1fb3a9676e2d606bc7d96c4c85d29/Werkzeug-0.12.1-py2.py3-none-any.whl (312kB)\n",
            "\u001b[K     |████████████████████████████████| 317kB 49.2MB/s \n",
            "\u001b[?25hRequirement already satisfied: chardet<4,>=3.0.2 in /usr/local/lib/python3.6/dist-packages (from requests>=2.20.0->-r requirements.txt (line 12)) (3.0.4)\n",
            "Requirement already satisfied: urllib3!=1.25.0,!=1.25.1,<1.26,>=1.21.1 in /usr/local/lib/python3.6/dist-packages (from requests>=2.20.0->-r requirements.txt (line 12)) (1.24.3)\n",
            "Requirement already satisfied: certifi>=2017.4.17 in /usr/local/lib/python3.6/dist-packages (from requests>=2.20.0->-r requirements.txt (line 12)) (2020.6.20)\n",
            "Requirement already satisfied: idna<3,>=2.5 in /usr/local/lib/python3.6/dist-packages (from requests>=2.20.0->-r requirements.txt (line 12)) (2.10)\n",
            "Requirement already satisfied: protobuf>=3.1.0 in /usr/local/lib/python3.6/dist-packages (from tensorflow==0.12.1->-r requirements.txt (line 14)) (3.12.2)\n",
            "Requirement already satisfied: wheel>=0.26 in /usr/local/lib/python3.6/dist-packages (from tensorflow==0.12.1->-r requirements.txt (line 14)) (0.34.2)\n",
            "Requirement already satisfied: setuptools in /usr/local/lib/python3.6/dist-packages (from protobuf>=3.1.0->tensorflow==0.12.1->-r requirements.txt (line 14)) (49.1.0)\n",
            "Building wheels for collected packages: gym, mujoco-py, PyOpenGL\n",
            "  Building wheel for gym (setup.py) ... \u001b[?25l\u001b[?25hdone\n",
            "  Created wheel for gym: filename=gym-0.9.4-cp36-none-any.whl size=215483 sha256=2020fac9e9d40e8166c90073568cde53d8a9a53d3fd126170c1ead0f389fbf0f\n",
            "  Stored in directory: /root/.cache/pip/wheels/2f/ae/a0/126678adc5f1f8905309a4712ea29537999787f610edbcb0a4\n",
            "  Building wheel for mujoco-py (setup.py) ... \u001b[?25l\u001b[?25hdone\n",
            "  Created wheel for mujoco-py: filename=mujoco_py-0.5.7-cp36-none-any.whl size=40058 sha256=9e14f84e5f98eb5ed521f43b19a755ec6fc316bd0bf13859a04a2f14a612d795\n",
            "  Stored in directory: /root/.cache/pip/wheels/44/88/b0/d8b91cf3c009536d7168fdcc0af70260cdf80acea91f31e469\n",
            "  Building wheel for PyOpenGL (setup.py) ... \u001b[?25l\u001b[?25hdone\n",
            "  Created wheel for PyOpenGL: filename=PyOpenGL-3.1.0-cp36-none-any.whl size=1745212 sha256=478062f65525efce83d8a42d0dba94bad9ec7cf507e1815352fb423cb78b56f6\n",
            "  Stored in directory: /root/.cache/pip/wheels/6c/00/7f/1dd736f380848720ad79a1a1de5272e0d3f79c15a42968fb58\n",
            "Successfully built gym mujoco-py PyOpenGL\n",
            "\u001b[31mERROR: yellowbrick 0.9.1 has requirement numpy>=1.13.0, but you'll have numpy 1.12.1 which is incompatible.\u001b[0m\n",
            "\u001b[31mERROR: xarray 0.15.1 has requirement numpy>=1.15, but you'll have numpy 1.12.1 which is incompatible.\u001b[0m\n",
            "\u001b[31mERROR: umap-learn 0.4.6 has requirement numpy>=1.17, but you'll have numpy 1.12.1 which is incompatible.\u001b[0m\n",
            "\u001b[31mERROR: tifffile 2020.7.4 has requirement numpy>=1.15.1, but you'll have numpy 1.12.1 which is incompatible.\u001b[0m\n",
            "\u001b[31mERROR: tensorflow-probability 0.10.0 has requirement numpy>=1.13.3, but you'll have numpy 1.12.1 which is incompatible.\u001b[0m\n",
            "\u001b[31mERROR: tensorflow-hub 0.8.0 has requirement six>=1.12.0, but you'll have six 1.10.0 which is incompatible.\u001b[0m\n",
            "\u001b[31mERROR: spacy 2.2.4 has requirement numpy>=1.15.0, but you'll have numpy 1.12.1 which is incompatible.\u001b[0m\n",
            "\u001b[31mERROR: seaborn 0.10.1 has requirement numpy>=1.13.3, but you'll have numpy 1.12.1 which is incompatible.\u001b[0m\n",
            "\u001b[31mERROR: scipy 1.4.1 has requirement numpy>=1.13.3, but you'll have numpy 1.12.1 which is incompatible.\u001b[0m\n",
            "\u001b[31mERROR: pywavelets 1.1.1 has requirement numpy>=1.13.3, but you'll have numpy 1.12.1 which is incompatible.\u001b[0m\n",
            "\u001b[31mERROR: pysndfile 1.3.8 has requirement numpy>=1.13.0, but you'll have numpy 1.12.1 which is incompatible.\u001b[0m\n",
            "\u001b[31mERROR: pymc3 3.7 has requirement numpy>=1.13.0, but you'll have numpy 1.12.1 which is incompatible.\u001b[0m\n",
            "\u001b[31mERROR: pyarrow 0.14.1 has requirement numpy>=1.14, but you'll have numpy 1.12.1 which is incompatible.\u001b[0m\n",
            "\u001b[31mERROR: plotnine 0.6.0 has requirement numpy>=1.16.0, but you'll have numpy 1.12.1 which is incompatible.\u001b[0m\n",
            "\u001b[31mERROR: pip-tools 4.5.1 has requirement click>=7, but you'll have click 6.7 which is incompatible.\u001b[0m\n",
            "\u001b[31mERROR: pandas 1.0.5 has requirement numpy>=1.13.3, but you'll have numpy 1.12.1 which is incompatible.\u001b[0m\n",
            "\u001b[31mERROR: numba 0.48.0 has requirement numpy>=1.15, but you'll have numpy 1.12.1 which is incompatible.\u001b[0m\n",
            "\u001b[31mERROR: imgaug 0.2.9 has requirement numpy>=1.15.0, but you'll have numpy 1.12.1 which is incompatible.\u001b[0m\n",
            "\u001b[31mERROR: google-colab 1.0.0 has requirement six~=1.12.0, but you'll have six 1.10.0 which is incompatible.\u001b[0m\n",
            "\u001b[31mERROR: flask 1.1.2 has requirement Werkzeug>=0.15, but you'll have werkzeug 0.12.1 which is incompatible.\u001b[0m\n",
            "\u001b[31mERROR: featuretools 0.4.1 has requirement numpy>=1.13.3, but you'll have numpy 1.12.1 which is incompatible.\u001b[0m\n",
            "\u001b[31mERROR: fastai 1.0.61 has requirement numpy>=1.15, but you'll have numpy 1.12.1 which is incompatible.\u001b[0m\n",
            "\u001b[31mERROR: dopamine-rl 1.0.5 has requirement gym>=0.10.5, but you'll have gym 0.9.4 which is incompatible.\u001b[0m\n",
            "\u001b[31mERROR: datascience 0.10.6 has requirement folium==0.2.1, but you'll have folium 0.8.3 which is incompatible.\u001b[0m\n",
            "\u001b[31mERROR: cvxpy 1.0.31 has requirement numpy>=1.15, but you'll have numpy 1.12.1 which is incompatible.\u001b[0m\n",
            "\u001b[31mERROR: blis 0.4.1 has requirement numpy>=1.15.0, but you'll have numpy 1.12.1 which is incompatible.\u001b[0m\n",
            "\u001b[31mERROR: astropy 4.0.1.post1 has requirement numpy>=1.16, but you'll have numpy 1.12.1 which is incompatible.\u001b[0m\n",
            "\u001b[31mERROR: albumentations 0.1.12 has requirement imgaug<0.2.7,>=0.2.5, but you'll have imgaug 0.2.9 which is incompatible.\u001b[0m\n",
            "Installing collected packages: appdirs, click, numpy, six, pyglet, gym, h5py, PyOpenGL, mujoco-py, pyparsing, packaging, redis, tensorflow, Werkzeug\n",
            "  Found existing installation: click 7.1.2\n",
            "    Uninstalling click-7.1.2:\n",
            "      Successfully uninstalled click-7.1.2\n",
            "  Found existing installation: numpy 1.18.5\n",
            "    Uninstalling numpy-1.18.5:\n",
            "      Successfully uninstalled numpy-1.18.5\n",
            "  Found existing installation: six 1.12.0\n",
            "    Uninstalling six-1.12.0:\n",
            "      Successfully uninstalled six-1.12.0\n",
            "  Found existing installation: pyglet 1.5.0\n",
            "    Uninstalling pyglet-1.5.0:\n",
            "      Successfully uninstalled pyglet-1.5.0\n",
            "  Found existing installation: gym 0.17.2\n",
            "    Uninstalling gym-0.17.2:\n",
            "      Successfully uninstalled gym-0.17.2\n",
            "  Found existing installation: h5py 2.10.0\n",
            "    Uninstalling h5py-2.10.0:\n",
            "      Successfully uninstalled h5py-2.10.0\n",
            "  Found existing installation: PyOpenGL 3.1.5\n",
            "    Uninstalling PyOpenGL-3.1.5:\n",
            "      Successfully uninstalled PyOpenGL-3.1.5\n",
            "  Found existing installation: pyparsing 2.4.7\n",
            "    Uninstalling pyparsing-2.4.7:\n",
            "      Successfully uninstalled pyparsing-2.4.7\n",
            "  Found existing installation: packaging 20.4\n",
            "    Uninstalling packaging-20.4:\n",
            "      Successfully uninstalled packaging-20.4\n",
            "  Found existing installation: tensorflow 2.2.0\n",
            "    Uninstalling tensorflow-2.2.0:\n",
            "      Successfully uninstalled tensorflow-2.2.0\n",
            "  Found existing installation: Werkzeug 1.0.1\n",
            "    Uninstalling Werkzeug-1.0.1:\n",
            "      Successfully uninstalled Werkzeug-1.0.1\n",
            "Successfully installed PyOpenGL-3.1.0 Werkzeug-0.12.1 appdirs-1.4.3 click-6.7 gym-0.9.4 h5py-2.7.0 mujoco-py-0.5.7 numpy-1.12.1 packaging-16.8 pyglet-1.2.4 pyparsing-2.2.0 redis-2.10.5 six-1.10.0 tensorflow-0.12.1\n"
          ],
          "name": "stdout"
        },
        {
          "output_type": "display_data",
          "data": {
            "application/vnd.colab-display-data+json": {
              "pip_warning": {
                "packages": [
                  "numpy",
                  "pyparsing",
                  "six"
                ]
              }
            }
          },
          "metadata": {
            "tags": []
          }
        }
      ]
    },
    {
      "cell_type": "code",
      "metadata": {
        "id": "_0BwGqf9GJru",
        "colab_type": "code",
        "colab": {
          "base_uri": "https://localhost:8080/",
          "height": 457
        },
        "outputId": "adc295b7-dbd8-4659-a3ba-e692fec8aa1c"
      },
      "source": [
        "!sudo apt-get update"
      ],
      "execution_count": null,
      "outputs": [
        {
          "output_type": "stream",
          "text": [
            "\r0% [Working]\r            \rGet:1 https://cloud.r-project.org/bin/linux/ubuntu bionic-cran35/ InRelease [3,626 B]\n",
            "\r0% [Connecting to archive.ubuntu.com (91.189.88.142)] [Connecting to security.u\r0% [Connecting to archive.ubuntu.com (91.189.88.142)] [Connecting to security.u\r0% [1 InRelease gpgv 3,626 B] [Connecting to archive.ubuntu.com (91.189.88.142)\r                                                                               \rIgn:2 https://developer.download.nvidia.com/compute/cuda/repos/ubuntu1804/x86_64  InRelease\n",
            "\r0% [1 InRelease gpgv 3,626 B] [Connecting to archive.ubuntu.com (91.189.88.142)\r                                                                               \rIgn:3 https://developer.download.nvidia.com/compute/machine-learning/repos/ubuntu1804/x86_64  InRelease\n",
            "\r0% [1 InRelease gpgv 3,626 B] [Connecting to archive.ubuntu.com (91.189.88.142)\r                                                                               \rHit:4 https://developer.download.nvidia.com/compute/cuda/repos/ubuntu1804/x86_64  Release\n",
            "\r0% [1 InRelease gpgv 3,626 B] [Connecting to archive.ubuntu.com (91.189.88.142)\r                                                                               \rHit:5 https://developer.download.nvidia.com/compute/machine-learning/repos/ubuntu1804/x86_64  Release\n",
            "\r0% [1 InRelease gpgv 3,626 B] [Waiting for headers] [Waiting for headers] [Wait\r                                                                               \rGet:6 http://security.ubuntu.com/ubuntu bionic-security InRelease [88.7 kB]\n",
            "\r0% [1 InRelease gpgv 3,626 B] [Waiting for headers] [6 InRelease 2,587 B/88.7 k\r0% [Waiting for headers] [6 InRelease 14.2 kB/88.7 kB 16%] [Waiting for headers\r0% [Release.gpg gpgv 697 B] [Waiting for headers] [6 InRelease 14.2 kB/88.7 kB \r                                                                               \rGet:7 http://ppa.launchpad.net/graphics-drivers/ppa/ubuntu bionic InRelease [21.3 kB]\n",
            "\r0% [Release.gpg gpgv 697 B] [Waiting for headers] [6 InRelease 37.3 kB/88.7 kB \r                                                                               \rHit:8 http://archive.ubuntu.com/ubuntu bionic InRelease\n",
            "\r0% [Release.gpg gpgv 697 B] [6 InRelease 40.2 kB/88.7 kB 45%] [7 InRelease 14.2\r0% [Waiting for headers] [6 InRelease 43.1 kB/88.7 kB 49%] [7 InRelease 14.2 kB\r0% [Release.gpg gpgv 564 B] [Waiting for headers] [6 InRelease 43.1 kB/88.7 kB \r0% [Release.gpg gpgv 564 B] [Waiting for headers] [7 InRelease 14.2 kB/21.3 kB \r                                                                               \r0% [Waiting for headers] [7 InRelease 14.2 kB/21.3 kB 67%]\r0% [8 InRelease gpgv 242 kB] [Waiting for headers] [7 InRelease 14.2 kB/21.3 kB\r                                                                               \rGet:11 http://archive.ubuntu.com/ubuntu bionic-updates InRelease [88.7 kB]\n",
            "\r0% [8 InRelease gpgv 242 kB] [11 InRelease 14.2 kB/88.7 kB 16%] [7 InRelease 20\r                                                                               \r0% [8 InRelease gpgv 242 kB] [11 InRelease 14.2 kB/88.7 kB 16%]\r0% [11 InRelease 15.6 kB/88.7 kB 18%] [Connecting to ppa.launchpad.net (91.189.\r0% [6 InRelease gpgv 88.7 kB] [11 InRelease 15.6 kB/88.7 kB 18%] [Connecting to\r                                                                               \r0% [11 InRelease 47.5 kB/88.7 kB 54%] [Waiting for headers]\r0% [7 InRelease gpgv 21.3 kB] [11 InRelease 47.5 kB/88.7 kB 54%] [Waiting for h\r                                                                               \rGet:12 http://security.ubuntu.com/ubuntu bionic-security/main amd64 Packages [1,005 kB]\n",
            "\r0% [7 InRelease gpgv 21.3 kB] [11 InRelease 47.5 kB/88.7 kB 54%] [12 Packages 2\r0% [11 InRelease 47.5 kB/88.7 kB 54%] [12 Packages 37.4 kB/1,005 kB 4%] [Waitin\r                                                                               \rGet:13 http://ppa.launchpad.net/marutter/c2d4u3.5/ubuntu bionic InRelease [15.4 kB]\n",
            "\r0% [11 InRelease 50.4 kB/88.7 kB 57%] [12 Packages 76.5 kB/1,005 kB 8%] [13 InR\r                                                                               \r0% [11 InRelease 56.2 kB/88.7 kB 63%] [12 Packages 96.8 kB/1,005 kB 10%]\r0% [13 InRelease gpgv 15.4 kB] [11 InRelease 56.2 kB/88.7 kB 63%] [12 Packages \r0% [13 InRelease gpgv 15.4 kB] [Waiting for headers] [12 Packages 159 kB/1,005 \r0% [Waiting for headers] [12 Packages 216 kB/1,005 kB 21%] [Connecting to ppa.l\r0% [11 InRelease gpgv 88.7 kB] [Waiting for headers] [12 Packages 218 kB/1,005 \r0% [Waiting for headers] [12 Packages 554 kB/1,005 kB 55%] [Waiting for headers\r                                                                               \rGet:14 http://archive.ubuntu.com/ubuntu bionic-backports InRelease [74.6 kB]\n",
            "\r0% [14 InRelease 2,604 B/74.6 kB 3%] [12 Packages 718 kB/1,005 kB 71%] [Waiting\r                                                                               \r0% [14 InRelease 28.7 kB/74.6 kB 38%] [Waiting for headers]\r0% [12 Packages store 0 B] [14 InRelease 31.6 kB/74.6 kB 42%] [Waiting for head\r                                                                               \rGet:15 http://ppa.launchpad.net/graphics-drivers/ppa/ubuntu bionic/main amd64 Packages [43.3 kB]\n",
            "\r0% [12 Packages store 0 B] [14 InRelease 63.4 kB/74.6 kB 85%] [Waiting for head\r0% [12 Packages store 0 B] [Waiting for headers] [15 Packages 14.3 kB/43.3 kB 3\r0% [12 Packages store 0 B] [14 InRelease gpgv 74.6 kB] [Waiting for headers] [1\r                                                                               \rGet:16 http://security.ubuntu.com/ubuntu bionic-security/restricted amd64 Packages [89.9 kB]\n",
            "\r0% [12 Packages store 0 B] [14 InRelease gpgv 74.6 kB] [Waiting for headers] [1\r                                                                               \rGet:17 http://security.ubuntu.com/ubuntu bionic-security/multiverse amd64 Packages [9,279 B]\n",
            "\r                                                                               \rGet:18 http://security.ubuntu.com/ubuntu bionic-security/universe amd64 Packages [869 kB]\n",
            "\r0% [12 Packages store 0 B] [14 InRelease gpgv 74.6 kB] [Waiting for headers] [1\r0% [12 Packages store 0 B] [14 InRelease gpgv 74.6 kB] [Waiting for headers] [1\r0% [14 InRelease gpgv 74.6 kB] [Waiting for headers] [15 Packages 14.3 kB/43.3 \r0% [16 Packages store 0 B] [14 InRelease gpgv 74.6 kB] [Waiting for headers] [1\r0% [14 InRelease gpgv 74.6 kB] [Waiting for headers] [15 Packages 14.3 kB/43.3 \r0% [17 Packages store 0 B] [14 InRelease gpgv 74.6 kB] [Waiting for headers] [1\r0% [14 InRelease gpgv 74.6 kB] [Waiting for headers] [15 Packages 14.3 kB/43.3 \r0% [18 Packages store 0 B] [14 InRelease gpgv 74.6 kB] [Waiting for headers] [1\r40% [18 Packages store 0 B] [Waiting for headers] [15 Packages 20.1 kB/43.3 kB \r                                                                               \rGet:19 http://archive.ubuntu.com/ubuntu bionic-updates/multiverse amd64 Packages [13.6 kB]\n",
            "\r40% [18 Packages store 0 B] [19 Packages 2,689 B/13.6 kB 20%] [15 Packages 23.0\r                                                                               \rGet:20 http://archive.ubuntu.com/ubuntu bionic-updates/universe amd64 Packages [1,406 kB]\n",
            "\r40% [18 Packages store 0 B] [20 Packages 423 B/1,406 kB 0%] [15 Packages 25.9 k\r                                                                               \r41% [20 Packages 17.8 kB/1,406 kB 1%] [15 Packages 31.6 kB/43.3 kB 73%]\r41% [19 Packages store 0 B] [20 Packages 17.8 kB/1,406 kB 1%] [15 Packages 31.6\r                                                                               \r41% [20 Packages 20.7 kB/1,406 kB 1%] [15 Packages 34.5 kB/43.3 kB 80%]\r                                                                       \r41% [20 Packages 55.4 kB/1,406 kB 4%]\r41% [15 Packages store 0 B] [20 Packages 55.4 kB/1,406 kB 4%] [Connecting to pp\r42% [20 Packages 61.2 kB/1,406 kB 4%] [Connecting to ppa.launchpad.net (91.189.\r                                                                               \rGet:21 http://ppa.launchpad.net/marutter/c2d4u3.5/ubuntu bionic/main Sources [1,849 kB]\n",
            "\r                                                                               \r46% [20 Packages 420 kB/1,406 kB 30%] [21 Sources 14.3 kB/1,849 kB 1%]\r                                                                      \r56% [21 Sources 43.2 kB/1,849 kB 2%]\r                                    \rGet:22 http://archive.ubuntu.com/ubuntu bionic-updates/restricted amd64 Packages [104 kB]\n",
            "\r56% [20 Packages store 0 B] [22 Packages 21.4 kB/104 kB 21%] [21 Sources 43.2 k\r                                                                               \r57% [20 Packages store 0 B] [21 Sources 43.2 kB/1,849 kB 2%]\r                                                            \rGet:23 http://archive.ubuntu.com/ubuntu bionic-updates/main amd64 Packages [1,307 kB]\n",
            "Get:24 http://archive.ubuntu.com/ubuntu bionic-backports/universe amd64 Packages [8,432 B]\n",
            "Get:25 http://ppa.launchpad.net/marutter/c2d4u3.5/ubuntu bionic/main amd64 Packages [892 kB]\n",
            "Fetched 7,889 kB in 4s (2,126 kB/s)\n",
            "Reading package lists... Done\n"
          ],
          "name": "stdout"
        }
      ]
    },
    {
      "cell_type": "code",
      "metadata": {
        "id": "-W06xf3_KmcF",
        "colab_type": "code",
        "colab": {
          "base_uri": "https://localhost:8080/",
          "height": 758
        },
        "outputId": "f28833d9-c572-4ff5-c33a-67c28004d68b"
      },
      "source": [
        "!sudo apt-get install tmux"
      ],
      "execution_count": null,
      "outputs": [
        {
          "output_type": "stream",
          "text": [
            "Reading package lists... Done\n",
            "Building dependency tree       \n",
            "Reading state information... Done\n",
            "The following package was automatically installed and is no longer required:\n",
            "  libnvidia-common-440\n",
            "Use 'sudo apt autoremove' to remove it.\n",
            "The following additional packages will be installed:\n",
            "  libevent-2.1-6 libutempter0\n",
            "The following NEW packages will be installed:\n",
            "  libevent-2.1-6 libutempter0 tmux\n",
            "0 upgraded, 3 newly installed, 0 to remove and 66 not upgraded.\n",
            "Need to get 390 kB of archives.\n",
            "After this operation, 1,068 kB of additional disk space will be used.\n",
            "Get:1 http://archive.ubuntu.com/ubuntu bionic/main amd64 libevent-2.1-6 amd64 2.1.8-stable-4build1 [133 kB]\n",
            "Get:2 http://archive.ubuntu.com/ubuntu bionic/main amd64 libutempter0 amd64 1.1.6-3 [7,898 B]\n",
            "Get:3 http://archive.ubuntu.com/ubuntu bionic-updates/main amd64 tmux amd64 2.6-3ubuntu0.2 [248 kB]\n",
            "Fetched 390 kB in 1s (355 kB/s)\n",
            "debconf: unable to initialize frontend: Dialog\n",
            "debconf: (No usable dialog-like program is installed, so the dialog based frontend cannot be used. at /usr/share/perl5/Debconf/FrontEnd/Dialog.pm line 76, <> line 3.)\n",
            "debconf: falling back to frontend: Readline\n",
            "debconf: unable to initialize frontend: Readline\n",
            "debconf: (This frontend requires a controlling tty.)\n",
            "debconf: falling back to frontend: Teletype\n",
            "dpkg-preconfigure: unable to re-open stdin: \n",
            "Selecting previously unselected package libevent-2.1-6:amd64.\n",
            "(Reading database ... 144465 files and directories currently installed.)\n",
            "Preparing to unpack .../libevent-2.1-6_2.1.8-stable-4build1_amd64.deb ...\n",
            "Unpacking libevent-2.1-6:amd64 (2.1.8-stable-4build1) ...\n",
            "Selecting previously unselected package libutempter0:amd64.\n",
            "Preparing to unpack .../libutempter0_1.1.6-3_amd64.deb ...\n",
            "Unpacking libutempter0:amd64 (1.1.6-3) ...\n",
            "Selecting previously unselected package tmux.\n",
            "Preparing to unpack .../tmux_2.6-3ubuntu0.2_amd64.deb ...\n",
            "Unpacking tmux (2.6-3ubuntu0.2) ...\n",
            "Setting up libevent-2.1-6:amd64 (2.1.8-stable-4build1) ...\n",
            "Setting up libutempter0:amd64 (1.1.6-3) ...\n",
            "Setting up tmux (2.6-3ubuntu0.2) ...\n",
            "Processing triggers for libc-bin (2.27-3ubuntu1) ...\n",
            "/sbin/ldconfig.real: /usr/local/lib/python3.6/dist-packages/ideep4py/lib/libmkldnn.so.0 is not a symbolic link\n",
            "\n",
            "Processing triggers for man-db (2.8.3-2ubuntu0.1) ...\n"
          ],
          "name": "stdout"
        }
      ]
    },
    {
      "cell_type": "code",
      "metadata": {
        "id": "ZTXKJLGFeqvj",
        "colab_type": "code",
        "colab": {
          "base_uri": "https://localhost:8080/",
          "height": 1000
        },
        "outputId": "d5fb08e7-aaff-4a84-a4c8-7fdae61592bd"
      },
      "source": [
        "! . scripts/local_run_exp.sh ns-es configurations/frostbite_nses.json"
      ],
      "execution_count": null,
      "outputs": [
        {
          "output_type": "stream",
          "text": [
            "\u001b7\u001b[?47h\u001b[?1h\u001b=\u001b[H\u001b[2J\u001b[?1000l\u001b[?1002l\u001b[?1006l\u001b[?1005l\u001b[c\u001b[m\u001b[?1003l\u001b[?1006l\u001b[?2004l\u001b[1;1H\u001b[1;24r\u001b]112\u0007\u001b[16;1H\u001b[4A─────────────────────────────────────────\u001b[m\u001b[32m───────────────────────────────────────\u001b[1;1H\u001b[m. scripts/local_env_setup.sh\u001b[K\r\n",
            "python -m es_distributed.main master --master_socket_path /tmp/es_redis_master.sock --algo ns-es --exp_file configurations/frostbite_nses.json\u001b[K\r\n",
            "\u001b[K\r\n",
            "\u001b[K\r\n",
            "\u001b[K\r\n",
            "\u001b[K\r\n",
            "\u001b[K\r\n",
            "\u001b[K\r\n",
            "\u001b[K\r\n",
            "\u001b[K\u001b[2B. scripts/local_env_setup.sh\u001b[K\r\n",
            "python -m es_distributed.main workers --master_host localhost --relay_socket_path /tmp/es_redis_relay.sock --algo ns-es --num_workers 40\u001b[K\r\n",
            "\u001b[K\r\n",
            "\u001b[K\r\n",
            "\u001b[K\r\n",
            "\u001b[K\r\n",
            "\u001b[K\r\n",
            "\u001b[K\r\n",
            "\u001b[K\r\n",
            "\u001b[K\r\n",
            "\u001b[30m\u001b[42m[exp_07_190:bash*                                 \"f93ef61bb6b9\" 02:40 19-Jul-20\u001b[m\u001b[16;1H\u001b[m\u001b[?1003l\u001b[?1006l\u001b[?2004l\u001b[1;1H\u001b[1;24r\u001b[16;1H\u001b[4A─────────────────────────────────────────\u001b[m\u001b[32m───────────────────────────────────────\u001b[1;1H\u001b[m. scripts/local_env_setup.sh\u001b[K\r\n",
            "python -m es_distributed.main master --master_socket_path /tmp/es_redis_master.sock --algo ns-es --exp_file configurations/frostbite_nses.json\u001b[K\r\n",
            "\u001b[K\r\n",
            "\u001b[K\r\n",
            "\u001b[K\r\n",
            "\u001b[K\r\n",
            "\u001b[K\r\n",
            "\u001b[K\r\n",
            "\u001b[K\r\n",
            "\u001b[K\u001b[2B. scripts/local_env_setup.sh\u001b[K\r\n",
            "python -m es_distributed.main workers --master_host localhost --relay_socket_path /tmp/es_redis_relay.sock --algo ns-es --num_workers 40\u001b[K\r\n",
            "\u001b[K\r\n",
            "\u001b[K\r\n",
            "\u001b[K\r\n",
            "\u001b[K\r\n",
            "\u001b[K\r\n",
            "\u001b[K\r\n",
            "\u001b[K\r\n",
            "\u001b[K\r\n",
            "\u001b[30m\u001b[42m[exp_07_190:bash*                                 \"f93ef61bb6b9\" 02:40 19-Jul-20\u001b[m\u001b[16;1H\u001b[4;1Hroot@f93ef61bb6b9:/content/deep-neuroevolution# . scripts/local_env_setup.sh\r\n",
            "Setting up local environment\r\n",
            "-bash: env/bin/activate: No such file or directory\r\n",
            "root@f93ef61bb6b9:/content/deep-neuroevolution# python -m es_distributed.main mas\rster --master_socket_path /tmp/es_redis_master.sock --algo ns-es --exp_file confi\rigurations/frostbite_nses.json\u001b[16;1Hroot@f93ef61bb6b9:/content/deep-neuroevolution# . scripts/local_env_setup.sh\r\n",
            "Setting up local environment\r\n",
            "-bash: env/bin/activate: No such file or directory\r\n",
            "root@f93ef61bb6b9:/content/deep-neuroevolution# python -m es_distributed.main wor\rrkers --master_host localhost --relay_socket_path /tmp/es_redis_relay.sock --algo\ro ns-es --num_workers 40\r\n",
            "\u001b[13;23r\u001b[23;80H\n",
            "\u001b[21;1HTraceback (most recent call last):\r\n",
            "  File \"/usr/lib/python2.7/runpy.py\", line 174, in _run_module_as_main\u001b[1;24r\u001b[23;1H    \u001b[13;23r\u001b[23;80H\n",
            "\u001b[22;5H\"__main__\", fname, loader, pkg_name)\u001b[1;24r\u001b[23;1H\u001b[13;23r\u001b[23;80H\n",
            "\u001b[22;1H  File \"/usr/lib/python2.7/runpy.py\", line 72, in _run_code\u001b[1;24r\u001b[23;1H    \u001b[13;23r\u001b[23;80H\n",
            "\u001b[22;5Hexec code in run_globals\u001b[1;24r\u001b[23;1H\u001b[13;23r\u001b[23;80H\n",
            "\n",
            "\u001b[21;1H  File \"/content/deep-neuroevolution/es_distributed/main.py\", line 9, in <module>\u001b[1;24r\u001b[23;1H\u001b[1;11r\u001b[11;80H\n",
            "\u001b[9;1HTraceback (most recent call last):\r\n",
            "  File \"/usr/lib/python2.7/runpy.py\", line 174, in _run_module_as_main\u001b[1;24r\u001b[23;1H\u001b[1;11r\u001b[11;80H\n",
            "\u001b[10;1H    \"__main__\", fname, loader, pkg_name)\u001b[1;24r\u001b[23;1H\u001b[1;11r\u001b[11;80H\n",
            "\u001b[10;1H  File \"/usr/lib/python2.7/runpy.py\", line 72, in _run_code\u001b[1;24r\u001b[23;1H\u001b[1;11r\u001b[11;80H\n",
            "\u001b[10;1H    exec code in run_globals\u001b[1;24r\u001b[23;1H\u001b[1;11r\u001b[11;80H\n",
            "\n",
            "\u001b[9;1H  File \"/content/deep-neuroevolution/es_distributed/main.py\", line 9, in <module>\u001b[1;24r\u001b[23;1H\u001b[11;1H    \u001b[23;1H\u001b[1;11r\u001b[11;80H\n",
            "\n",
            "\u001b[9;5Hfrom .dist import RelayClient\r\n",
            "  File \"es_distributed/dist.py\", line 8, in <module>\u001b[1;24r\u001b[23;1H\u001b[1;11r\u001b[11;80H\n",
            "\u001b[10;1H    import redis\u001b[1;24r\u001b[23;1H\u001b[11;1HImportError: \u001b[23;1H\u001b[1;11r\u001b[11;80H\n",
            "\u001b[10;14HNo module named redis\u001b[1;24r\u001b[23;1H\u001b[13;23r\u001b[23;80H\n",
            "\u001b[22;1H    from .dist import RelayClient\u001b[1;24r\u001b[23;1H\u001b[13;23r\u001b[23;80H\n",
            "\u001b[22;1H  File \"es_distributed/dist.py\", line 8, in <module>\u001b[1;24r\u001b[23;1H\u001b[13;23r\u001b[23;80H\n",
            "\u001b[22;1H    import redis\u001b[1;24r\u001b[23;1HImportError: \u001b[13;23r\u001b[23;80H\n",
            "\u001b[22;14HNo module named redis\u001b[1;24r\u001b[23;1H\u001b[11;1Hroot@f93ef61bb6b9:/content/deep-neuroevolution# \u001b[23;1Hroot@f93ef61bb6b9:/content/deep-neuroevolution# \u001b[11;1H\u001b[Kroot@f93ef61bb6b9:/content/deep-neuroevolution# \u001b[23;49H\n",
            "\u001b[30m\u001b[42m[exp_07_190:bash*                                 \"f93ef61bb6b9\" 02:41 19-Jul-20\u001b[m\u001b[23;49H\n",
            "\u001b[30m\u001b[42m[exp_07_190:bash*                                 \"f93ef61bb6b9\" 02:42 19-Jul-20\u001b[m\u001b[23;49H\n",
            "\u001b[30m\u001b[42m[exp_07_190:bash*                                 \"f93ef61bb6b9\" 02:43 19-Jul-20\u001b[m\u001b[23;49H\n",
            "\u001b[30m\u001b[42m[exp_07_190:bash*                                 \"f93ef61bb6b9\" 02:44 19-Jul-20\u001b[m\u001b[23;49H\n",
            "\u001b[30m\u001b[42m[exp_07_190:bash*                                 \"f93ef61bb6b9\" 02:45 19-Jul-20\u001b[m\u001b[23;49H\n",
            "\u001b[30m\u001b[42m[exp_07_190:bash*                                 \"f93ef61bb6b9\" 02:46 19-Jul-20\u001b[m\u001b[23;49H\n",
            "\u001b[30m\u001b[42m[exp_07_190:bash*                                 \"f93ef61bb6b9\" 02:47 19-Jul-20\u001b[m\u001b[23;49H\n",
            "\u001b[30m\u001b[42m[exp_07_190:bash*                                 \"f93ef61bb6b9\" 02:48 19-Jul-20\u001b[m\u001b[23;49H\n",
            "\u001b[30m\u001b[42m[exp_07_190:bash*                                 \"f93ef61bb6b9\" 02:49 19-Jul-20\u001b[m\u001b[23;49H\n",
            "\u001b[30m\u001b[42m[exp_07_190:bash*                                 \"f93ef61bb6b9\" 02:50 19-Jul-20\u001b[m\u001b[23;49H\n",
            "\u001b[30m\u001b[42m[exp_07_190:bash*                                 \"f93ef61bb6b9\" 02:51 19-Jul-20\u001b[m\u001b[23;49H\n",
            "\u001b[30m\u001b[42m[exp_07_190:bash*                                 \"f93ef61bb6b9\" 02:52 19-Jul-20\u001b[m\u001b[23;49H\n",
            "\u001b[30m\u001b[42m[exp_07_190:bash*                                 \"f93ef61bb6b9\" 02:53 19-Jul-20\u001b[m\u001b[23;49H\n",
            "\u001b[30m\u001b[42m[exp_07_190:bash*                                 \"f93ef61bb6b9\" 02:54 19-Jul-20\u001b[m\u001b[23;49H\n",
            "\u001b[30m\u001b[42m[exp_07_190:bash*                                 \"f93ef61bb6b9\" 02:55 19-Jul-20\u001b[m\u001b[23;49H\n",
            "\u001b[30m\u001b[42m[exp_07_190:bash*                                 \"f93ef61bb6b9\" 02:56 19-Jul-20\u001b[m\u001b[23;49H\n",
            "\u001b[30m\u001b[42m[exp_07_190:bash*                                 \"f93ef61bb6b9\" 02:57 19-Jul-20\u001b[m\u001b[23;49H\n",
            "\u001b[30m\u001b[42m[exp_07_190:bash*                                 \"f93ef61bb6b9\" 02:58 19-Jul-20\u001b[m\u001b[23;49H\n",
            "\u001b[30m\u001b[42m[exp_07_190:bash*                                 \"f93ef61bb6b9\" 02:59 19-Jul-20\u001b[m\u001b[23;49H\n",
            "\u001b[30m\u001b[42m[exp_07_190:bash*                                 \"f93ef61bb6b9\" 03:00 19-Jul-20\u001b[m\u001b[23;49H\n",
            "\u001b[30m\u001b[42m[exp_07_190:bash*                                 \"f93ef61bb6b9\" 03:01 19-Jul-20\u001b[m\u001b[23;49H\n",
            "\u001b[30m\u001b[42m[exp_07_190:bash*                                 \"f93ef61bb6b9\" 03:02 19-Jul-20\u001b[m\u001b[23;49H\n",
            "\u001b[30m\u001b[42m[exp_07_190:bash*                                 \"f93ef61bb6b9\" 03:03 19-Jul-20\u001b[m\u001b[23;49H\n",
            "\u001b[30m\u001b[42m[exp_07_190:bash*                                 \"f93ef61bb6b9\" 03:04 19-Jul-20\u001b[m\u001b[23;49H\n",
            "\u001b[30m\u001b[42m[exp_07_190:bash*                                 \"f93ef61bb6b9\" 03:05 19-Jul-20\u001b[m\u001b[23;49H\n",
            "\u001b[30m\u001b[42m[exp_07_190:bash*                                 \"f93ef61bb6b9\" 03:06 19-Jul-20\u001b[m\u001b[23;49H\n",
            "\u001b[30m\u001b[42m[exp_07_190:bash*                                 \"f93ef61bb6b9\" 03:07 19-Jul-20\u001b[m\u001b[23;49H\n",
            "\u001b[30m\u001b[42m[exp_07_190:bash*                                 \"f93ef61bb6b9\" 03:08 19-Jul-20\u001b[m\u001b[23;49H\n",
            "\u001b[30m\u001b[42m[exp_07_190:bash*                                 \"f93ef61bb6b9\" 03:09 19-Jul-20\u001b[m\u001b[23;49H\n",
            "\u001b[30m\u001b[42m[exp_07_190:bash*                                 \"f93ef61bb6b9\" 03:10 19-Jul-20\u001b[m\u001b[23;49H\n",
            "\u001b[30m\u001b[42m[exp_07_190:bash*                                 \"f93ef61bb6b9\" 03:11 19-Jul-20\u001b[m\u001b[23;49H\n",
            "\u001b[30m\u001b[42m[exp_07_190:bash*                                 \"f93ef61bb6b9\" 03:12 19-Jul-20\u001b[m\u001b[23;49H\n",
            "\u001b[30m\u001b[42m[exp_07_190:bash*                                 \"f93ef61bb6b9\" 03:13 19-Jul-20\u001b[m\u001b[23;49H\n",
            "\u001b[30m\u001b[42m[exp_07_190:bash*                                 \"f93ef61bb6b9\" 03:14 19-Jul-20\u001b[m\u001b[23;49H\n",
            "\u001b[30m\u001b[42m[exp_07_190:bash*                                 \"f93ef61bb6b9\" 03:15 19-Jul-20\u001b[m\u001b[23;49H\n",
            "\u001b[30m\u001b[42m[exp_07_190:bash*                                 \"f93ef61bb6b9\" 03:16 19-Jul-20\u001b[m\u001b[23;49H\n",
            "\u001b[30m\u001b[42m[exp_07_190:bash*                                 \"f93ef61bb6b9\" 03:17 19-Jul-20\u001b[m\u001b[23;49H\n",
            "\u001b[30m\u001b[42m[exp_07_190:bash*                                 \"f93ef61bb6b9\" 03:18 19-Jul-20\u001b[m\u001b[23;49H\n",
            "\u001b[30m\u001b[42m[exp_07_190:bash*                                 \"f93ef61bb6b9\" 03:19 19-Jul-20\u001b[m\u001b[23;49H\n",
            "\u001b[30m\u001b[42m[exp_07_190:bash*                                 \"f93ef61bb6b9\" 03:20 19-Jul-20\u001b[m\u001b[23;49H\n",
            "\u001b[30m\u001b[42m[exp_07_190:bash*                                 \"f93ef61bb6b9\" 03:21 19-Jul-20\u001b[m\u001b[23;49H\n",
            "\u001b[30m\u001b[42m[exp_07_190:bash*                                 \"f93ef61bb6b9\" 03:22 19-Jul-20\u001b[m\u001b[23;49H\n",
            "\u001b[30m\u001b[42m[exp_07_190:bash*                                 \"f93ef61bb6b9\" 03:23 19-Jul-20\u001b[m\u001b[23;49H\n",
            "\u001b[30m\u001b[42m[exp_07_190:bash*                                 \"f93ef61bb6b9\" 03:24 19-Jul-20\u001b[m\u001b[23;49H\n",
            "\u001b[30m\u001b[42m[exp_07_190:bash*                                 \"f93ef61bb6b9\" 03:25 19-Jul-20\u001b[m\u001b[23;49H\n",
            "\u001b[30m\u001b[42m[exp_07_190:bash*                                 \"f93ef61bb6b9\" 03:26 19-Jul-20\u001b[m\u001b[23;49H\n",
            "\u001b[30m\u001b[42m[exp_07_190:bash*                                 \"f93ef61bb6b9\" 03:27 19-Jul-20\u001b[m\u001b[23;49H\n",
            "\u001b[30m\u001b[42m[exp_07_190:bash*                                 \"f93ef61bb6b9\" 03:28 19-Jul-20\u001b[m\u001b[23;49H\n",
            "\u001b[30m\u001b[42m[exp_07_190:bash*                                 \"f93ef61bb6b9\" 03:29 19-Jul-20\u001b[m\u001b[23;49H\n",
            "\u001b[30m\u001b[42m[exp_07_190:bash*                                 \"f93ef61bb6b9\" 03:30 19-Jul-20\u001b[m\u001b[23;49H\n",
            "\u001b[30m\u001b[42m[exp_07_190:bash*                                 \"f93ef61bb6b9\" 03:31 19-Jul-20\u001b[m\u001b[23;49H\n",
            "\u001b[30m\u001b[42m[exp_07_190:bash*                                 \"f93ef61bb6b9\" 03:32 19-Jul-20\u001b[m\u001b[23;49H\n",
            "\u001b[30m\u001b[42m[exp_07_190:bash*                                 \"f93ef61bb6b9\" 03:33 19-Jul-20\u001b[m\u001b[23;49H\n",
            "\u001b[30m\u001b[42m[exp_07_190:bash*                                 \"f93ef61bb6b9\" 03:34 19-Jul-20\u001b[m\u001b[23;49H\n",
            "\u001b[30m\u001b[42m[exp_07_190:bash*                                 \"f93ef61bb6b9\" 03:35 19-Jul-20\u001b[m\u001b[23;49H\n",
            "\u001b[30m\u001b[42m[exp_07_190:bash*                                 \"f93ef61bb6b9\" 03:36 19-Jul-20\u001b[m\u001b[23;49H"
          ],
          "name": "stdout"
        }
      ]
    },
    {
      "cell_type": "code",
      "metadata": {
        "id": "T3vKKQbJGjfu",
        "colab_type": "code",
        "colab": {
          "base_uri": "https://localhost:8080/",
          "height": 841
        },
        "outputId": "38844bfe-49d1-4246-c197-c45df5753fa1"
      },
      "source": [
        "! . scripts/local_run_redis.sh"
      ],
      "execution_count": null,
      "outputs": [
        {
          "output_type": "stream",
          "text": [
            "\u001b7\u001b[?47h\u001b[?1h\u001b=\u001b[H\u001b[2J\u001b[?1000l\u001b[?1002l\u001b[?1006l\u001b[?1005l\u001b[c\u001b[m\u001b[?1003l\u001b[?1006l\u001b[?2004l\u001b[1;1H\u001b[1;24r\u001b]112\u0007\u001b[14;1H\u001b[2A─────────────────────────────────────────\u001b[m\u001b[32m───────────────────────────────────────\u001b[1;1H\u001b[mredis-server redis_config/redis_master.conf\u001b[K\r\n",
            "\u001b[K\r\n",
            "\u001b[K\r\n",
            "\u001b[K\r\n",
            "\u001b[K\r\n",
            "\u001b[K\r\n",
            "\u001b[K\r\n",
            "\u001b[K\r\n",
            "\u001b[K\r\n",
            "\u001b[K\r\n",
            "\u001b[K\u001b[2Bredis-server redis_config/redis_local_mirror.conf\u001b[K\r\n",
            "\u001b[K\r\n",
            "\u001b[K\r\n",
            "\u001b[K\r\n",
            "\u001b[K\r\n",
            "\u001b[K\r\n",
            "\u001b[K\r\n",
            "\u001b[K\r\n",
            "\u001b[K\r\n",
            "\u001b[K\r\n",
            "\u001b[K\r\n",
            "\u001b[30m\u001b[42m[redis] 0:bash*                                   \"2a349ff472da\" 10:46 17-Jul-20\u001b[m\u001b[14;1H\u001b[m\u001b[?1003l\u001b[?1006l\u001b[?2004l\u001b[1;1H\u001b[1;24r\u001b[14;1H\u001b[2A─────────────────────────────────────────\u001b[m\u001b[32m───────────────────────────────────────\u001b[1;1H\u001b[mredis-server redis_config/redis_master.conf\u001b[K\r\n",
            "\u001b[K\r\n",
            "\u001b[K\r\n",
            "\u001b[K\r\n",
            "\u001b[K\r\n",
            "\u001b[K\r\n",
            "\u001b[K\r\n",
            "\u001b[K\r\n",
            "\u001b[K\r\n",
            "\u001b[K\r\n",
            "\u001b[K\u001b[2Bredis-server redis_config/redis_local_mirror.conf\u001b[K\r\n",
            "\u001b[K\r\n",
            "\u001b[K\r\n",
            "\u001b[K\r\n",
            "\u001b[K\r\n",
            "\u001b[K\r\n",
            "\u001b[K\r\n",
            "\u001b[K\r\n",
            "\u001b[K\r\n",
            "\u001b[K\r\n",
            "\u001b[K\r\n",
            "\u001b[30m\u001b[42m[redis] 0:bash*                                   \"2a349ff472da\" 10:46 17-Jul-20\u001b[m\u001b[14;1H\u001b[2;1Hroot@2a349ff472da:/content/deep-neuroevolution# redis-server redis_config/redis_m\rmaster.conf\u001b[14;1Hroot@2a349ff472da:/content/deep-neuroevolution# redis-server redis_config/redis_l\rlocal_mirror.conf\r\n",
            "\u001b[4;1H-bash: redis-server: command not found\u001b[16;1H-bash: redis-server: command not found\r\n",
            "\u001b[5;1Hroot@2a349ff472da:/content/deep-neuroevolution# \u001b[17;1Hroot@2a349ff472da:/content/deep-neuroevolution# \u001b[5;1H\u001b[Kroot@2a349ff472da:/content/deep-neuroevolution# \u001b[17;49H\u001b[24;1H\u001b[30m\u001b[42m[redis] 0:bash*                                   \"2a349ff472da\" 10:47 17-Jul-20\u001b[m\u001b[17;49H\u001b[24;1H\u001b[30m\u001b[42m[redis] 0:bash*                                   \"2a349ff472da\" 10:48 17-Jul-20\u001b[m\u001b[17;49H\u001b[24;1H\u001b[30m\u001b[42m[redis] 0:bash*                                   \"2a349ff472da\" 10:49 17-Jul-20\u001b[m\u001b[17;49H\u001b[24;1H\u001b[30m\u001b[42m[redis] 0:bash*                                   \"2a349ff472da\" 10:50 17-Jul-20\u001b[m\u001b[17;49H\u001b[24;1H\u001b[30m\u001b[42m[redis] 0:bash*                                   \"2a349ff472da\" 10:51 17-Jul-20\u001b[m\u001b[17;49H\u001b[24;1H\u001b[30m\u001b[42m[redis] 0:bash*                                   \"2a349ff472da\" 10:52 17-Jul-20\u001b[m\u001b[17;49H\u001b[24;1H\u001b[30m\u001b[42m[redis] 0:bash*                                   \"2a349ff472da\" 10:53 17-Jul-20\u001b[m\u001b[17;49H\u001b[24;1H\u001b[30m\u001b[42m[redis] 0:bash*                                   \"2a349ff472da\" 10:54 17-Jul-20\u001b[m\u001b[17;49H\u001b[24;1H\u001b[30m\u001b[42m[redis] 0:bash*                                   \"2a349ff472da\" 10:55 17-Jul-20\u001b[m\u001b[17;49H\u001b[24;1H\u001b[30m\u001b[42m[redis] 0:bash*                                   \"2a349ff472da\" 10:56 17-Jul-20\u001b[m\u001b[17;49H\u001b[24;1H\u001b[30m\u001b[42m[redis] 0:bash*                                   \"2a349ff472da\" 10:57 17-Jul-20\u001b[m\u001b[17;49H\u001b[24;1H\u001b[30m\u001b[42m[redis] 0:bash*                                   \"2a349ff472da\" 10:58 17-Jul-20\u001b[m\u001b[17;49H\u001b[24;1H\u001b[30m\u001b[42m[redis] 0:bash*                                   \"2a349ff472da\" 10:59 17-Jul-20\u001b[m\u001b[17;49H\u001b[24;1H\u001b[30m\u001b[42m[redis] 0:bash*                                   \"2a349ff472da\" 11:00 17-Jul-20\u001b[m\u001b[17;49H\u001b[24;1H\u001b[30m\u001b[42m[redis] 0:bash*                                   \"2a349ff472da\" 11:01 17-Jul-20\u001b[m\u001b[17;49H\u001b[24;1H\u001b[30m\u001b[42m[redis] 0:bash*                                   \"2a349ff472da\" 11:02 17-Jul-20\u001b[m\u001b[17;49H\u001b[24;1H\u001b[30m\u001b[42m[redis] 0:bash*                                   \"2a349ff472da\" 11:03 17-Jul-20\u001b[m\u001b[17;49H\u001b[24;1H\u001b[30m\u001b[42m[redis] 0:bash*                                   \"2a349ff472da\" 11:04 17-Jul-20\u001b[m\u001b[17;49H\u001b[24;1H\u001b[30m\u001b[42m[redis] 0:bash*                                   \"2a349ff472da\" 11:05 17-Jul-20\u001b[m\u001b[17;49H\u001b[24;1H\u001b[30m\u001b[42m[redis] 0:bash*                                   \"2a349ff472da\" 11:06 17-Jul-20\u001b[m\u001b[17;49H\u001b[24;1H\u001b[30m\u001b[42m[redis] 0:bash*                                   \"2a349ff472da\" 11:07 17-Jul-20\u001b[m\u001b[17;49H\u001b[24;1H\u001b[30m\u001b[42m[redis] 0:bash*                                   \"2a349ff472da\" 11:08 17-Jul-20\u001b[m\u001b[17;49H\u001b[24;1H\u001b[30m\u001b[42m[redis] 0:bash*                                   \"2a349ff472da\" 11:09 17-Jul-20\u001b[m\u001b[17;49H\u001b[24;1H\u001b[30m\u001b[42m[redis] 0:bash*                                   \"2a349ff472da\" 11:10 17-Jul-20\u001b[m\u001b[17;49H\u001b[24;1H\u001b[30m\u001b[42m[redis] 0:bash*                                   \"2a349ff472da\" 11:11 17-Jul-20\u001b[m\u001b[17;49H\u001b[24;1H\u001b[30m\u001b[42m[redis] 0:bash*                                   \"2a349ff472da\" 11:12 17-Jul-20\u001b[m\u001b[17;49H\u001b[24;1H\u001b[30m\u001b[42m[redis] 0:bash*                                   \"2a349ff472da\" 11:13 17-Jul-20\u001b[m\u001b[17;49H\u001b[24;1H\u001b[30m\u001b[42m[redis] 0:bash*                                   \"2a349ff472da\" 11:14 17-Jul-20\u001b[m\u001b[17;49H\u001b[24;1H\u001b[30m\u001b[42m[redis] 0:bash*                                   \"2a349ff472da\" 11:15 17-Jul-20\u001b[m\u001b[17;49H\u001b[24;1H\u001b[30m\u001b[42m[redis] 0:bash*                                   \"2a349ff472da\" 11:16 17-Jul-20\u001b[m\u001b[17;49H\u001b[24;1H\u001b[30m\u001b[42m[redis] 0:bash*                                   \"2a349ff472da\" 11:17 17-Jul-20\u001b[m\u001b[17;49H\u001b[24;1H\u001b[30m\u001b[42m[redis] 0:bash*                                   \"2a349ff472da\" 11:18 17-Jul-20\u001b[m\u001b[17;49H\u001b[24;1H\u001b[30m\u001b[42m[redis] 0:bash*                                   \"2a349ff472da\" 11:19 17-Jul-20\u001b[m\u001b[17;49H\u001b[24;1H\u001b[30m\u001b[42m[redis] 0:bash*                                   \"2a349ff472da\" 11:20 17-Jul-20\u001b[m\u001b[17;49H\u001b[24;1H\u001b[30m\u001b[42m[redis] 0:bash*                                   \"2a349ff472da\" 11:21 17-Jul-20\u001b[m\u001b[17;49H\u001b[24;1H\u001b[30m\u001b[42m[redis] 0:bash*                                   \"2a349ff472da\" 11:22 17-Jul-20\u001b[m\u001b[17;49H\u001b[24;1H\u001b[30m\u001b[42m[redis] 0:bash*                                   \"2a349ff472da\" 11:23 17-Jul-20\u001b[m\u001b[17;49H\u001b[24;1H\u001b[30m\u001b[42m[redis] 0:bash*                                   \"2a349ff472da\" 11:24 17-Jul-20\u001b[m\u001b[17;49H\u001b[24;1H\u001b[30m\u001b[42m[redis] 0:bash*                                   \"2a349ff472da\" 11:25 17-Jul-20\u001b[m\u001b[17;49H\u001b[24;1H\u001b[30m\u001b[42m[redis] 0:bash*                                   \"2a349ff472da\" 11:26 17-Jul-20\u001b[m\u001b[17;49H\u001b[24;1H\u001b[30m\u001b[42m[redis] 0:bash*                                   \"2a349ff472da\" 11:27 17-Jul-20\u001b[m\u001b[17;49H\u001b[24;1H\u001b[30m\u001b[42m[redis] 0:bash*                                   \"2a349ff472da\" 11:28 17-Jul-20\u001b[m\u001b[17;49H\u001b[24;1H\u001b[30m\u001b[42m[redis] 0:bash*                                   \"2a349ff472da\" 11:29 17-Jul-20\u001b[m\u001b[17;49H\u001b[24;1H\u001b[30m\u001b[42m[redis] 0:bash*                                   \"2a349ff472da\" 11:30 17-Jul-20\u001b[m\u001b[17;49H\u001b[24;1H\u001b[30m\u001b[42m[redis] 0:bash*                                   \"2a349ff472da\" 11:31 17-Jul-20\u001b[m\u001b[17;49H\u001b[24;1H\u001b[30m\u001b[42m[redis] 0:bash*                                   \"2a349ff472da\" 11:32 17-Jul-20\u001b[m\u001b[17;49H\u001b[24;1H\u001b[30m\u001b[42m[redis] 0:bash*                                   \"2a349ff472da\" 11:33 17-Jul-20\u001b[m\u001b[17;49H\u001b[24;1H\u001b[30m\u001b[42m[redis] 0:bash*                                   \"2a349ff472da\" 11:34 17-Jul-20\u001b[m\u001b[17;49H\u001b[24;1H\u001b[30m\u001b[42m[redis] 0:bash*                                   \"2a349ff472da\" 11:35 17-Jul-20\u001b[m\u001b[17;49H\u001b[24;1H\u001b[30m\u001b[42m[redis] 0:bash*                                   \"2a349ff472da\" 11:36 17-Jul-20\u001b[m\u001b[17;49H\u001b[24;1H\u001b[30m\u001b[42m[redis] 0:bash*                                   \"2a349ff472da\" 11:37 17-Jul-20\u001b[m\u001b[17;49H\u001b[24;1H\u001b[30m\u001b[42m[redis] 0:bash*                                   \"2a349ff472da\" 11:38 17-Jul-20\u001b[m\u001b[17;49H\u001b[24;1H\u001b[30m\u001b[42m[redis] 0:bash*                                   \"2a349ff472da\" 11:39 17-Jul-20\u001b[m\u001b[17;49H\u001b[24;1H\u001b[30m\u001b[42m[redis] 0:bash*                                   \"2a349ff472da\" 11:40 17-Jul-20\u001b[m\u001b[17;49H\u001b[24;1H\u001b[30m\u001b[42m[redis] 0:bash*                                   \"2a349ff472da\" 11:41 17-Jul-20\u001b[m\u001b[17;49H\u001b[24;1H\u001b[30m\u001b[42m[redis] 0:bash*                                   \"2a349ff472da\" 11:42 17-Jul-20\u001b[m\u001b[17;49H\u001b[24;1H\u001b[30m\u001b[42m[redis] 0:bash*                                   \"2a349ff472da\" 11:43 17-Jul-20\u001b[m\u001b[17;49H\u001b[24;1H\u001b[30m\u001b[42m[redis] 0:bash*                                   \"2a349ff472da\" 11:44 17-Jul-20\u001b[m\u001b[17;49H\u001b[24;1H\u001b[30m\u001b[42m[redis] 0:bash*                                   \"2a349ff472da\" 11:45 17-Jul-20\u001b[m\u001b[17;49H\u001b[24;1H\u001b[30m\u001b[42m[redis] 0:bash*                                   \"2a349ff472da\" 11:46 17-Jul-20\u001b[m\u001b[17;49H\u001b[24;1H\u001b[30m\u001b[42m[redis] 0:bash*                                   \"2a349ff472da\" 11:47 17-Jul-20\u001b[m\u001b[17;49H\u001b[24;1H\u001b[30m\u001b[42m[redis] 0:bash*                                   \"2a349ff472da\" 11:48 17-Jul-20\u001b[m\u001b[17;49H\u001b[24;1H\u001b[30m\u001b[42m[redis] 0:bash*                                   \"2a349ff472da\" 11:49 17-Jul-20\u001b[m\u001b[17;49H\u001b[24;1H\u001b[30m\u001b[42m[redis] 0:bash*                                   \"2a349ff472da\" 11:50 17-Jul-20\u001b[m\u001b[17;49H\u001b[24;1H\u001b[30m\u001b[42m[redis] 0:bash*                                   \"2a349ff472da\" 11:51 17-Jul-20\u001b[m\u001b[17;49H\u001b[24;1H\u001b[30m\u001b[42m[redis] 0:bash*                                   \"2a349ff472da\" 11:52 17-Jul-20\u001b[m\u001b[17;49H\u001b[24;1H\u001b[30m\u001b[42m[redis] 0:bash*                                   \"2a349ff472da\" 11:53 17-Jul-20\u001b[m\u001b[17;49H\u001b[24;1H\u001b[30m\u001b[42m[redis] 0:bash*                                   \"2a349ff472da\" 11:54 17-Jul-20\u001b[m\u001b[17;49H\u001b[24;1H\u001b[30m\u001b[42m[redis] 0:bash*                                   \"2a349ff472da\" 11:55 17-Jul-20\u001b[m\u001b[17;49H\u001b[24;1H\u001b[30m\u001b[42m[redis] 0:bash*                                   \"2a349ff472da\" 11:56 17-Jul-20\u001b[m\u001b[17;49H\u001b[24;1H\u001b[30m\u001b[42m[redis] 0:bash*                                   \"2a349ff472da\" 11:57 17-Jul-20\u001b[m\u001b[17;49H\u001b[24;1H\u001b[30m\u001b[42m[redis] 0:bash*                                   \"2a349ff472da\" 11:58 17-Jul-20\u001b[m\u001b[17;49H\u001b[24;1H\u001b[30m\u001b[42m[redis] 0:bash*                                   \"2a349ff472da\" 11:59 17-Jul-20\u001b[m\u001b[17;49H\u001b[24;1H\u001b[30m\u001b[42m[redis] 0:bash*                                   \"2a349ff472da\" 12:00 17-Jul-20\u001b[m\u001b[17;49H\u001b[24;1H\u001b[30m\u001b[42m[redis] 0:bash*                                   \"2a349ff472da\" 12:01 17-Jul-20\u001b[m\u001b[17;49H\u001b[24;1H\u001b[30m\u001b[42m[redis] 0:bash*                                   \"2a349ff472da\" 12:02 17-Jul-20\u001b[m\u001b[17;49H\u001b[24;1H\u001b[30m\u001b[42m[redis] 0:bash*                                   \"2a349ff472da\" 12:03 17-Jul-20\u001b[m\u001b[17;49H\u001b[24;1H\u001b[30m\u001b[42m[redis] 0:bash*                                   \"2a349ff472da\" 12:04 17-Jul-20\u001b[m\u001b[17;49H\u001b[24;1H\u001b[30m\u001b[42m[redis] 0:bash*                                   \"2a349ff472da\" 12:05 17-Jul-20\u001b[m\u001b[17;49H\u001b[24;1H\u001b[30m\u001b[42m[redis] 0:bash*                                   \"2a349ff472da\" 12:06 17-Jul-20\u001b[m\u001b[17;49H\u001b[24;1H\u001b[30m\u001b[42m[redis] 0:bash*                                   \"2a349ff472da\" 12:07 17-Jul-20\u001b[m\u001b[17;49H\u001b[24;1H\u001b[30m\u001b[42m[redis] 0:bash*                                   \"2a349ff472da\" 12:08 17-Jul-20\u001b[m\u001b[17;49H\u001b[24;1H\u001b[30m\u001b[42m[redis] 0:bash*                                   \"2a349ff472da\" 12:09 17-Jul-20\u001b[m\u001b[17;49H\u001b[24;1H\u001b[30m\u001b[42m[redis] 0:bash*                                   \"2a349ff472da\" 12:10 17-Jul-20\u001b[m\u001b[17;49H\u001b[24;1H\u001b[30m\u001b[42m[redis] 0:bash*                                   \"2a349ff472da\" 12:11 17-Jul-20\u001b[m\u001b[17;49H\u001b[24;1H\u001b[30m\u001b[42m[redis] 0:bash*                                   \"2a349ff472da\" 12:12 17-Jul-20\u001b[m\u001b[17;49H\u001b[24;1H\u001b[30m\u001b[42m[redis] 0:bash*                                   \"2a349ff472da\" 12:13 17-Jul-20\u001b[m\u001b[17;49H\u001b[24;1H\u001b[30m\u001b[42m[redis] 0:bash*                                   \"2a349ff472da\" 12:14 17-Jul-20\u001b[m\u001b[17;49H\u001b[24;1H\u001b[30m\u001b[42m[redis] 0:bash*                                   \"2a349ff472da\" 12:15 17-Jul-20\u001b[m\u001b[17;49H\u001b[24;1H\u001b[30m\u001b[42m[redis] 0:bash*                                   \"2a349ff472da\" 12:16 17-Jul-20\u001b[m\u001b[17;49H\u001b[24;1H\u001b[30m\u001b[42m[redis] 0:bash*                                   \"2a349ff472da\" 12:17 17-Jul-20\u001b[m\u001b[17;49H\u001b[24;1H\u001b[30m\u001b[42m[redis] 0:bash*                                   \"2a349ff472da\" 12:18 17-Jul-20\u001b[m\u001b[17;49H\u001b[24;1H\u001b[30m\u001b[42m[redis] 0:bash*                                   \"2a349ff472da\" 12:19 17-Jul-20\u001b[m\u001b[17;49H\u001b[24;1H\u001b[30m\u001b[42m[redis] 0:bash*                                   \"2a349ff472da\" 12:20 17-Jul-20\u001b[m\u001b[17;49H\u001b[24;1H\u001b[30m\u001b[42m[redis] 0:bash*                                   \"2a349ff472da\" 12:21 17-Jul-20\u001b[m\u001b[17;49H\u001b[24;1H\u001b[30m\u001b[42m[redis] 0:bash*                                   \"2a349ff472da\" 12:22 17-Jul-20\u001b[m\u001b[17;49H\u001b[24;1H\u001b[30m\u001b[42m[redis] 0:bash*                                   \"2a349ff472da\" 12:23 17-Jul-20\u001b[m\u001b[17;49H\u001b[24;1H\u001b[30m\u001b[42m[redis] 0:bash*                                   \"2a349ff472da\" 12:24 17-Jul-20\u001b[m\u001b[17;49H\u001b[24;1H\u001b[30m\u001b[42m[redis] 0:bash*                                   \"2a349ff472da\" 12:25 17-Jul-20\u001b[m\u001b[17;49H\u001b[24;1H\u001b[30m\u001b[42m[redis] 0:bash*                                   \"2a349ff472da\" 12:26 17-Jul-20\u001b[m\u001b[17;49H\u001b[24;1H\u001b[30m\u001b[42m[redis] 0:bash*                                   \"2a349ff472da\" 12:27 17-Jul-20\u001b[m\u001b[17;49H\u001b[24;1H\u001b[30m\u001b[42m[redis] 0:bash*                                   \"2a349ff472da\" 12:28 17-Jul-20\u001b[m\u001b[17;49H\u001b[24;1H\u001b[30m\u001b[42m[redis] 0:bash*                                   \"2a349ff472da\" 12:29 17-Jul-20\u001b[m\u001b[17;49H\u001b[24;1H\u001b[30m\u001b[42m[redis] 0:bash*                                   \"2a349ff472da\" 12:30 17-Jul-20\u001b[m\u001b[17;49H\u001b[24;1H\u001b[30m\u001b[42m[redis] 0:bash*                                   \"2a349ff472da\" 12:31 17-Jul-20\u001b[m\u001b[17;49H\u001b[24;1H\u001b[30m\u001b[42m[redis] 0:bash*                                   \"2a349ff472da\" 12:32 17-Jul-20\u001b[m\u001b[17;49H\u001b[24;1H\u001b[30m\u001b[42m[redis] 0:bash*                                   \"2a349ff472da\" 12:33 17-Jul-20\u001b[m\u001b[17;49H\u001b[24;1H\u001b[30m\u001b[42m[redis] 0:bash*                                   \"2a349ff472da\" 12:34 17-Jul-20\u001b[m\u001b[17;49H\u001b[24;1H\u001b[30m\u001b[42m[redis] 0:bash*                                   \"2a349ff472da\" 12:35 17-Jul-20\u001b[m\u001b[17;49H\u001b[24;1H\u001b[30m\u001b[42m[redis] 0:bash*                                   \"2a349ff472da\" 12:36 17-Jul-20\u001b[m\u001b[17;49H\u001b[24;1H\u001b[30m\u001b[42m[redis] 0:bash*                                   \"2a349ff472da\" 12:37 17-Jul-20\u001b[m\u001b[17;49H\u001b[24;1H\u001b[30m\u001b[42m[redis] 0:bash*                                   \"2a349ff472da\" 12:38 17-Jul-20\u001b[m\u001b[17;49H\u001b[24;1H\u001b[30m\u001b[42m[redis] 0:bash*                                   \"2a349ff472da\" 12:39 17-Jul-20\u001b[m\u001b[17;49H\u001b[24;1H\u001b[30m\u001b[42m[redis] 0:bash*                                   \"2a349ff472da\" 12:40 17-Jul-20\u001b[m\u001b[17;49H\u001b[24;1H\u001b[30m\u001b[42m[redis] 0:bash*                                   \"2a349ff472da\" 12:41 17-Jul-20\u001b[m\u001b[17;49H\u001b[24;1H\u001b[30m\u001b[42m[redis] 0:bash*                                   \"2a349ff472da\" 12:42 17-Jul-20\u001b[m\u001b[17;49H\u001b[24;1H\u001b[30m\u001b[42m[redis] 0:bash*                                   \"2a349ff472da\" 12:43 17-Jul-20\u001b[m\u001b[17;49H"
          ],
          "name": "stdout"
        }
      ]
    },
    {
      "cell_type": "code",
      "metadata": {
        "id": "-gp0fbNAIm2G",
        "colab_type": "code",
        "colab": {}
      },
      "source": [
        ""
      ],
      "execution_count": null,
      "outputs": []
    }
  ]
}
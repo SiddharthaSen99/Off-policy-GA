{
 "cells": [
  {
   "cell_type": "code",
   "execution_count": 0,
   "metadata": {
    "colab": {},
    "colab_type": "code",
    "id": "Ax1sCi5wP0wu"
   },
   "outputs": [],
   "source": [
    "import numpy as np\n",
    "import gym\n",
    "import random\n",
    "import time\n",
    "from IPython.display import clear_output"
   ]
  },
  {
   "cell_type": "code",
   "execution_count": 0,
   "metadata": {
    "colab": {},
    "colab_type": "code",
    "id": "gC_gRFLqRxk3"
   },
   "outputs": [],
   "source": [
    "env = gym.make(\"FrozenLake-v0\")"
   ]
  },
  {
   "cell_type": "code",
   "execution_count": 42,
   "metadata": {
    "colab": {
     "base_uri": "https://localhost:8080/",
     "height": 300
    },
    "colab_type": "code",
    "executionInfo": {
     "elapsed": 1407,
     "status": "ok",
     "timestamp": 1587822382486,
     "user": {
      "displayName": "Siddhartha Sen",
      "photoUrl": "https://lh3.googleusercontent.com/a-/AOh14GjJpDUGsEjdVcVzpSAgz4JidcyZ_N41a4Zk7XmAtA=s64",
      "userId": "14513033932301237348"
     },
     "user_tz": -330
    },
    "id": "jwUw83OJTQsM",
    "outputId": "d0b37ec0-2b4a-41f6-ca56-22998b52fe4f"
   },
   "outputs": [
    {
     "name": "stdout",
     "output_type": "stream",
     "text": [
      "[[0. 0. 0. 0.]\n",
      " [0. 0. 0. 0.]\n",
      " [0. 0. 0. 0.]\n",
      " [0. 0. 0. 0.]\n",
      " [0. 0. 0. 0.]\n",
      " [0. 0. 0. 0.]\n",
      " [0. 0. 0. 0.]\n",
      " [0. 0. 0. 0.]\n",
      " [0. 0. 0. 0.]\n",
      " [0. 0. 0. 0.]\n",
      " [0. 0. 0. 0.]\n",
      " [0. 0. 0. 0.]\n",
      " [0. 0. 0. 0.]\n",
      " [0. 0. 0. 0.]\n",
      " [0. 0. 0. 0.]\n",
      " [0. 0. 0. 0.]]\n"
     ]
    }
   ],
   "source": [
    "action_space_size = env.action_space.n\n",
    "state_space_size = env.observation_space.n\n",
    "q_table = np.zeros((state_space_size , action_space_size))\n",
    "print(q_table)"
   ]
  },
  {
   "cell_type": "code",
   "execution_count": 0,
   "metadata": {
    "colab": {},
    "colab_type": "code",
    "id": "_zZNHYnqUOnT"
   },
   "outputs": [],
   "source": [
    "num_episodes = 10000\n",
    "max_steps_per_episode = 100\n",
    "learning_rate = 0.1\n",
    "discount_rate = 0.99\n",
    "exploration_rate = 1\n",
    "max_exploration_rate = 1\n",
    "min_exploration_rate = 0.01\n",
    "exploration_decay_rate = 0.001"
   ]
  },
  {
   "cell_type": "code",
   "execution_count": 44,
   "metadata": {
    "colab": {
     "base_uri": "https://localhost:8080/",
     "height": 548
    },
    "colab_type": "code",
    "executionInfo": {
     "elapsed": 9064,
     "status": "ok",
     "timestamp": 1587822401490,
     "user": {
      "displayName": "Siddhartha Sen",
      "photoUrl": "https://lh3.googleusercontent.com/a-/AOh14GjJpDUGsEjdVcVzpSAgz4JidcyZ_N41a4Zk7XmAtA=s64",
      "userId": "14513033932301237348"
     },
     "user_tz": -330
    },
    "id": "4uWkyDNvVXXw",
    "outputId": "5d0dc7da-25c4-453f-f99d-8ba7c193e91c"
   },
   "outputs": [
    {
     "name": "stdout",
     "output_type": "stream",
     "text": [
      "AVERAGE REWARD PER 1000 EPISODES\n",
      "\n",
      "1 th thousand :  0.04300000000000003\n",
      "2 th thousand :  0.20700000000000016\n",
      "3 th thousand :  0.3870000000000003\n",
      "4 th thousand :  0.5590000000000004\n",
      "5 th thousand :  0.6240000000000004\n",
      "6 th thousand :  0.6590000000000005\n",
      "7 th thousand :  0.6530000000000005\n",
      "8 th thousand :  0.6720000000000005\n",
      "9 th thousand :  0.6610000000000005\n",
      "10 th thousand :  0.7050000000000005\n",
      "UPDATED Q TABLE\n",
      "\n",
      "[[0.54484091 0.52284513 0.51580661 0.5149513 ]\n",
      " [0.36723044 0.34095183 0.25713552 0.49437297]\n",
      " [0.40230025 0.36516898 0.38362779 0.47233202]\n",
      " [0.26389951 0.38787334 0.35458779 0.45393562]\n",
      " [0.56014109 0.44183857 0.37301992 0.411115  ]\n",
      " [0.         0.         0.         0.        ]\n",
      " [0.45729527 0.16865876 0.22950303 0.16568492]\n",
      " [0.         0.         0.         0.        ]\n",
      " [0.44740511 0.32628963 0.37624879 0.59037865]\n",
      " [0.49706952 0.63991936 0.42522254 0.33537251]\n",
      " [0.63738567 0.395275   0.39243336 0.34794766]\n",
      " [0.         0.         0.         0.        ]\n",
      " [0.         0.         0.         0.        ]\n",
      " [0.52205976 0.44844686 0.71682572 0.39574085]\n",
      " [0.75868431 0.83236107 0.79146645 0.79353832]\n",
      " [0.         0.         0.         0.        ]]\n"
     ]
    }
   ],
   "source": [
    "rewards_all_episodes = []\n",
    "#Q Learning Algorithm\n",
    "for episode in range(num_episodes):\n",
    "  state = env.reset()\n",
    "  done = False\n",
    "  rewards_current_episode = 0\n",
    "  for step in range(max_steps_per_episode):\n",
    "    #Exploitation Exploration trade off\n",
    "    exploration_rate_threshold = random.uniform(0,1)\n",
    "    if exploration_rate_threshold > exploration_rate:\n",
    "      action = np.argmax(q_table[state,:])\n",
    "    else:\n",
    "      action = env.action_space.sample()\n",
    "    new_state, reward, done, info = env.step(action)\n",
    "    q_table[state,action] = q_table[state,action]*(1 - learning_rate) + learning_rate*(reward + discount_rate*np.max(q_table[new_state ,:]))\n",
    "    state = new_state\n",
    "    rewards_current_episode+= reward\n",
    "    if done== True:\n",
    "      break\n",
    "  #Exploration Rate Decay\n",
    "  exploration_rate = min_exploration_rate + (max_exploration_rate - min_exploration_rate)*np.exp(- exploration_decay_rate * episode)\n",
    "  rewards_all_episodes.append(rewards_current_episode)\n",
    "#Calculate and Print the Average Reward per 1000 Episodes\n",
    "rewards_per_thousand_episodes = np.split(np.array(rewards_all_episodes),num_episodes/1000)\n",
    "count = 1\n",
    "print(\"AVERAGE REWARD PER 1000 EPISODES\\n\")\n",
    "for r in rewards_per_thousand_episodes:\n",
    "  print(count,\"th thousand : \",str(sum(r/1000)))\n",
    "  count+= 1\n",
    "#Print Updated Q Table\n",
    "print(\"UPDATED Q TABLE\\n\")\n",
    "print(q_table)"
   ]
  },
  {
   "cell_type": "code",
   "execution_count": 45,
   "metadata": {
    "colab": {
     "base_uri": "https://localhost:8080/",
     "height": 141
    },
    "colab_type": "code",
    "executionInfo": {
     "elapsed": 63887,
     "status": "ok",
     "timestamp": 1587822470660,
     "user": {
      "displayName": "Siddhartha Sen",
      "photoUrl": "https://lh3.googleusercontent.com/a-/AOh14GjJpDUGsEjdVcVzpSAgz4JidcyZ_N41a4Zk7XmAtA=s64",
      "userId": "14513033932301237348"
     },
     "user_tz": -330
    },
    "id": "jQIjTcu0fvie",
    "outputId": "65581442-5b0b-4372-fd18-f9a7741e3acc"
   },
   "outputs": [
    {
     "name": "stdout",
     "output_type": "stream",
     "text": [
      "  (Down)\n",
      "SFFF\n",
      "FHFH\n",
      "FFFH\n",
      "HFF\u001b[41mG\u001b[0m\n",
      "YOU REACHED THE GOAL!\n",
      "\n"
     ]
    }
   ],
   "source": [
    "for episode in range(3):\n",
    "  state = env.reset()\n",
    "  done = False\n",
    "  print(\"EPISODE : \",episode+1,\"\\n\")\n",
    "  time.sleep(1)\n",
    "  for step in range(max_steps_per_episode):\n",
    "    clear_output(wait=True)\n",
    "    env.render()\n",
    "    time.sleep(0.3)\n",
    "    action = np.argmax(q_table[state,:])\n",
    "    new_state,reward,done,info = env.step(action)\n",
    "    if done:\n",
    "      clear_output(wait=True)\n",
    "      env.render()\n",
    "      if reward == 1:\n",
    "        print(\"YOU REACHED THE GOAL!\\n\")\n",
    "        time.sleep(3)\n",
    "      else:\n",
    "        print(\"YOU FELL THROUGH A HOLE!\\n\")\n",
    "        time.sleep(3)\n",
    "      clear_output(wait=True)\n",
    "      break\n",
    "    state = new_state\n",
    "env.close()\n"
   ]
  }
 ],
 "metadata": {
  "colab": {
   "authorship_tag": "ABX9TyPVWrcehsyoAdP3KrvtFhfn",
   "collapsed_sections": [],
   "name": "FrozenLake.ipynb",
   "provenance": []
  },
  "kernelspec": {
   "display_name": "Python 3",
   "language": "python",
   "name": "python3"
  },
  "language_info": {
   "codemirror_mode": {
    "name": "ipython",
    "version": 3
   },
   "file_extension": ".py",
   "mimetype": "text/x-python",
   "name": "python",
   "nbconvert_exporter": "python",
   "pygments_lexer": "ipython3",
   "version": "3.7.6"
  }
 },
 "nbformat": 4,
 "nbformat_minor": 1
}

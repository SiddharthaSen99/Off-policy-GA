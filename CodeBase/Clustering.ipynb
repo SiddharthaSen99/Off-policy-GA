{
  "nbformat": 4,
  "nbformat_minor": 0,
  "metadata": {
    "kernelspec": {
      "display_name": "Python 3",
      "language": "python",
      "name": "python3"
    },
    "language_info": {
      "codemirror_mode": {
        "name": "ipython",
        "version": 3
      },
      "file_extension": ".py",
      "mimetype": "text/x-python",
      "name": "python",
      "nbconvert_exporter": "python",
      "pygments_lexer": "ipython3",
      "version": "3.7.6"
    },
    "colab": {
      "name": "Clustering.ipynb",
      "provenance": [],
      "collapsed_sections": []
    }
  },
  "cells": [
    {
      "cell_type": "code",
      "metadata": {
        "id": "XNo8tQ3LXqMC"
      },
      "source": [
        "import gym\n",
        "import numpy as np\n",
        "import torch\n",
        "import matplotlib.pyplot as plt\n",
        "import time\n",
        "from statistics import mean"
      ],
      "execution_count": 2,
      "outputs": []
    },
    {
      "cell_type": "code",
      "metadata": {
        "id": "jHCvekKwXqMN"
      },
      "source": [
        "from gym.wrappers import Monitor"
      ],
      "execution_count": 3,
      "outputs": []
    },
    {
      "cell_type": "code",
      "metadata": {
        "id": "EwwesvSwXqMN"
      },
      "source": [
        "import torch.nn as nn\n",
        "import torch.nn.functional as F\n",
        "import torch.optim as optim"
      ],
      "execution_count": 4,
      "outputs": []
    },
    {
      "cell_type": "code",
      "metadata": {
        "id": "dSEYE2hwXqMO"
      },
      "source": [
        "import math\n",
        "import copy\n",
        "from torch.distributions import Categorical\n",
        "device = torch.device(\"cuda:0\" if torch.cuda.is_available() else \"cpu\")"
      ],
      "execution_count": 5,
      "outputs": []
    },
    {
      "cell_type": "code",
      "metadata": {
        "id": "RhPwyRkPXqMP"
      },
      "source": [
        "#Hyper-parameters\n",
        "max_episodes = 1000          # max training episodes\n",
        "max_timesteps = 250          # max timesteps in one episode\n",
        "gamma = 0.01                # discount factor\n",
        "gamma1 = 0.99\n",
        "epsilon = 0.2                #need to change it to max(advantage)\n",
        "dkl=1                       #need to change it to KL divergence between old and new policies\n",
        "Q_r=[]\n",
        "Q_r1=[]\n",
        "a=[]\n",
        "Q=np.zeros((max_timesteps,2))\n",
        "mutation_power = 0.02#hyper-parameter, set from https://arxiv.org/pdf/1712.06567.pdf\n",
        "#print(Q)"
      ],
      "execution_count": 6,
      "outputs": []
    },
    {
      "cell_type": "code",
      "metadata": {
        "id": "7XgLm70aXqMP"
      },
      "source": [
        "class CartPoleAI(nn.Module):\n",
        "        def __init__(self):\n",
        "            super().__init__()\n",
        "            self.fc = nn.Sequential(\n",
        "                        nn.Linear(4,128, bias=True),\n",
        "                        nn.ReLU(),\n",
        "                        nn.Linear(128,2, bias=True),\n",
        "                        nn.Softmax(dim=1)\n",
        "                        )\n",
        "\n",
        "                \n",
        "        def forward(self, inputs):\n",
        "            x = self.fc(inputs)\n",
        "            return x"
      ],
      "execution_count": 7,
      "outputs": []
    },
    {
      "cell_type": "code",
      "metadata": {
        "id": "jveZogjAXqMQ"
      },
      "source": [
        "def init_weights(m):\n",
        "    \n",
        "        # nn.Conv2d weights are of shape [16, 1, 3, 3] i.e. # number of filters, 1, stride, stride\n",
        "        # nn.Conv2d bias is of shape [16] i.e. # number of filters\n",
        "        \n",
        "        # nn.Linear weights are of shape [32, 24336] i.e. # number of input features, number of output features\n",
        "        # nn.Linear bias is of shape [32] i.e. # number of output features\n",
        "        \n",
        "        if ((type(m) == nn.Linear) | (type(m) == nn.Conv2d)):\n",
        "            torch.nn.init.xavier_uniform(m.weight)\n",
        "            m.bias.data.fill_(0.00)"
      ],
      "execution_count": 8,
      "outputs": []
    },
    {
      "cell_type": "code",
      "metadata": {
        "id": "rZHrAdHWXqMR"
      },
      "source": [
        "def behavioural_policy(agents):\n",
        "    return agent"
      ],
      "execution_count": 9,
      "outputs": []
    },
    {
      "cell_type": "code",
      "metadata": {
        "id": "7yDQ8tkuXqMR"
      },
      "source": [
        "def KL_divergence(agent1,agent2):\n",
        "    return KL"
      ],
      "execution_count": 10,
      "outputs": []
    },
    {
      "cell_type": "code",
      "metadata": {
        "id": "lUnpv893XqMR"
      },
      "source": [
        "def return_random_agents(num_agents):\n",
        "    \n",
        "    agents = []\n",
        "    for _ in range(num_agents):\n",
        "        \n",
        "        agent = CartPoleAI()\n",
        "        \n",
        "        for param in agent.parameters():\n",
        "            param.requires_grad = False\n",
        "            \n",
        "        init_weights(agent)\n",
        "        agents.append(agent)\n",
        "        \n",
        "        \n",
        "    return agents"
      ],
      "execution_count": 11,
      "outputs": []
    },
    {
      "cell_type": "code",
      "metadata": {
        "id": "_M2-wg1qXqMb"
      },
      "source": [
        "def softmax(x):\n",
        "    \"\"\"Compute softmax values for each sets of scores in x.\"\"\"\n",
        "    return np.exp(x) / np.sum(np.exp(x), axis=0)"
      ],
      "execution_count": 12,
      "outputs": []
    },
    {
      "cell_type": "code",
      "metadata": {
        "id": "IVmt_LAOhkeA"
      },
      "source": [
        "def get_output_probabilities(agent):\n",
        "\n",
        "  # We sample the agent for several nummber of iterations\n",
        "\n",
        "  number_of_iterations = 1000\n",
        "  val = [0 , 0]\n",
        "\n",
        "  for itr in range(number_of_iterations):\n",
        "    input = torch.randn(128,4)\n",
        "    probability = agent(input).detach().numpy()[0]\n",
        "    # print(\"itr = \",itr,\" value = \",probability)\n",
        "    for i in range(len(probability)):\n",
        "      val[i] += probability[i]\n",
        "\n",
        "  for i in range(len(probability)):\n",
        "    val[i] /= number_of_iterations\n",
        "  \n",
        "  # This sampling provides us with a representation of our agent function\n",
        "  # in terms of probabilties which we pass through\n",
        "\n",
        "  print(val)\n",
        "  return val\n"
      ],
      "execution_count": 13,
      "outputs": []
    },
    {
      "cell_type": "code",
      "metadata": {
        "id": "EA5JgB9B7JoH"
      },
      "source": [
        "def create_cluster(unassigned, probability_representation,cluster_size):\n",
        "  created_cluster = []\n",
        "  KLVals = []\n",
        "\n",
        "  min_KL_Val = 1e9\n",
        "  cluster_size = min(cluster_size,len(unassigned))\n",
        "\n",
        "  # print(\"Cluster size for this iteration = \",cluster_size,\" #still unassigned = \",len(unassigned))\n",
        "  \n",
        "  for itr in range(len(probability_representation)):\n",
        "    sum = 0\n",
        "\n",
        "    if itr not in unassigned: continue\n",
        "\n",
        "    KLVals.clear()\n",
        "    for i in range(len(probability_representation)):\n",
        "      if i not in unassigned: continue\n",
        "      KLval = 0\n",
        "      prob1 = probability_representation[itr]\n",
        "      prob2 = probability_representation[i]\n",
        "      for variable in range(len(prob1)):\n",
        "        KLval += prob1[variable]*np.log(prob1[variable]/prob2[variable])\n",
        "      KLVals.append([KLval,i])\n",
        "\n",
        "    KLVals.sort()\n",
        "        \n",
        "    for j in range(cluster_size):\n",
        "      sum += KLVals[j][0]\n",
        "    # print(\"KLVals for \",itr,\" = \", sum)\n",
        "    if min_KL_Val > sum:\n",
        "      min_KL_Val = sum\n",
        "      created_cluster.clear()\n",
        "      for j in range(cluster_size):\n",
        "        created_cluster.append(KLVals[j][1])\n",
        "\n",
        "  print(\"created cluster is \",created_cluster)\n",
        "  for agent in created_cluster:\n",
        "    unassigned.remove(agent)\n",
        "\n",
        "  \n",
        "  return created_cluster, unassigned"
      ],
      "execution_count": 75,
      "outputs": []
    },
    {
      "cell_type": "code",
      "metadata": {
        "id": "yfEwJVl6dZGm"
      },
      "source": [
        "def clustering(agents,num_agents):\n",
        "\n",
        "  # Our cluser size is arbitrary, treated as an hyper parameter\n",
        "\n",
        "  number_of_clusters = int(math.sqrt(num_agents))\n",
        "  cluster_size = int(num_agents/number_of_clusters)\n",
        "\n",
        "  print(\"forming clusers of size = \",cluster_size)\n",
        "\n",
        "  probability_representation = []\n",
        "\n",
        "  for agent in agents:\n",
        "    required = get_output_probabilities(agent)\n",
        "    probability_representation.append(required)\n",
        "\n",
        "  unassigned = [x for x in range(num_agents)] \n",
        "  # Checks for policies that are not clusered yet\n",
        "\n",
        "  root = [0 for i in range(num_agents)]\n",
        "  # root[i] is the behaviour policy for taget policy i\n",
        "\n",
        "  while len(unassigned) > 0:\n",
        "    created_cluster, unassigned = create_cluster(unassigned, probability_representation,cluster_size)\n",
        "    for itr in created_cluster:\n",
        "      root[itr] = created_cluster[0] \n",
        "      # 0th index is behavior policy for cluster i\n",
        "\n",
        "  return root"
      ],
      "execution_count": 76,
      "outputs": []
    },
    {
      "cell_type": "code",
      "metadata": {
        "scrolled": true,
        "colab": {
          "base_uri": "https://localhost:8080/"
        },
        "id": "4ERI4OMoXqMc",
        "outputId": "94abc610-fd1f-484d-e377-067234cad8d9"
      },
      "source": [
        "game_actions = 2 #2 actions possible: left or right\n",
        "\n",
        "#disable gradients as we will not use them\n",
        "torch.set_grad_enabled(False)\n",
        "\n",
        "# initialize N number of agents\n",
        "num_agents = 100\n",
        "agents = return_random_agents(num_agents)\n",
        "generations = 1\n",
        "clustered = clustering(agents,num_agents)\n",
        "\n",
        "for generation in range(generations):\n",
        "  print(clustered)\n",
        "    "
      ],
      "execution_count": 78,
      "outputs": [
        {
          "output_type": "stream",
          "text": [
            "forming clusers of size =  10\n",
            "[0.5341129644513131, 0.46588703279197213]\n",
            "[0.44900100941956045, 0.5509989898204803]\n",
            "[0.5291978529691697, 0.4708021501749754]\n",
            "[0.6099790781736374, 0.3900209236443043]\n",
            "[0.4831907924413681, 0.5168092064857482]\n",
            "[0.4710996518135071, 0.5289003469645978]\n",
            "[0.5059427039027214, 0.4940572942495346]\n",
            "[0.5167091462016106, 0.4832908549010754]\n",
            "[0.4988336196243763, 0.5011663830280304]\n",
            "[0.4745454404354095, 0.5254545590877533]\n",
            "[0.4337009465396404, 0.5662990520000458]\n",
            "[0.5261946974098682, 0.47380530241131785]\n",
            "[0.4460518990457058, 0.5539480990171433]\n",
            "[0.5343110322058201, 0.4656889684051275]\n",
            "[0.48761766517162325, 0.5123823351264]\n",
            "[0.6307132095992565, 0.3692867883369327]\n",
            "[0.4508833016604185, 0.5491166982650757]\n",
            "[0.5663440747559071, 0.43365592388808727]\n",
            "[0.5219256051778793, 0.47807439452409745]\n",
            "[0.43879225304722785, 0.5612077490389347]\n",
            "[0.5550357738137245, 0.444964226603508]\n",
            "[0.494200632750988, 0.5057993659079075]\n",
            "[0.4669625455737114, 0.5330374532341957]\n",
            "[0.4939909536242485, 0.5060090475976468]\n",
            "[0.5224038041383028, 0.4775961956530809]\n",
            "[0.6305063796341419, 0.3694936210438609]\n",
            "[0.5099741818904877, 0.4900258192867041]\n",
            "[0.3017441734224558, 0.6982558256387711]\n",
            "[0.4524398710727692, 0.5475601281225682]\n",
            "[0.5130978763401508, 0.48690212453901766]\n",
            "[0.43685323822498323, 0.563146762162447]\n",
            "[0.5554598813951015, 0.4445401195436716]\n",
            "[0.4357509224563837, 0.5642490762770176]\n",
            "[0.49700426623225213, 0.5029957321733236]\n",
            "[0.5157503290474414, 0.4842496712505817]\n",
            "[0.5682361436784268, 0.4317638561427593]\n",
            "[0.5514968832731247, 0.4485031178742647]\n",
            "[0.46628696493804456, 0.5337130354940891]\n",
            "[0.5597675597369671, 0.44023244121670724]\n",
            "[0.47699724170565605, 0.5230027597248554]\n",
            "[0.48363602966070174, 0.5163639711439609]\n",
            "[0.4653676685988903, 0.5346323310732841]\n",
            "[0.5179064278751612, 0.4820935706347227]\n",
            "[0.453277961730957, 0.546722038090229]\n",
            "[0.3866181368380785, 0.6133818609714508]\n",
            "[0.4870319757461548, 0.5129680215418339]\n",
            "[0.5716102148592472, 0.42838978151977064]\n",
            "[0.4900837713479996, 0.5099162292182445]\n",
            "[0.44917337146401404, 0.5508266274034977]\n",
            "[0.4442568979859352, 0.5557431019544602]\n",
            "[0.47746965619921683, 0.5225303445160389]\n",
            "[0.5552710880339146, 0.44472891214489935]\n",
            "[0.5191015529632569, 0.4808984467983246]\n",
            "[0.47288617157936097, 0.5271138263940811]\n",
            "[0.5687473374307156, 0.4312526602745056]\n",
            "[0.3911734722703695, 0.6088265279829502]\n",
            "[0.6471624680757523, 0.3528375324159861]\n",
            "[0.5241788198947906, 0.4758211820870638]\n",
            "[0.4167415092140436, 0.5832584916949272]\n",
            "[0.371779683470726, 0.6282203168869018]\n",
            "[0.6304597552418709, 0.3695402450710535]\n",
            "[0.5465132527649402, 0.4534867475926876]\n",
            "[0.4539291801005602, 0.5460708188712597]\n",
            "[0.4991572706997395, 0.5008427300751209]\n",
            "[0.4727110293507576, 0.5272889692187309]\n",
            "[0.4887431431114674, 0.5112568566501141]\n",
            "[0.28682874811440706, 0.7131712529659271]\n",
            "[0.48980227003991605, 0.5101977302730083]\n",
            "[0.5457635280489922, 0.45423647212982177]\n",
            "[0.3856046012490988, 0.6143953973650932]\n",
            "[0.5110423142611981, 0.48895768508315085]\n",
            "[0.5108475272059441, 0.4891524719893932]\n",
            "[0.5828309311568737, 0.41716907066106795]\n",
            "[0.4999004147648811, 0.5000995844602585]\n",
            "[0.5440426135659218, 0.45595738860964774]\n",
            "[0.45879599756002426, 0.5412040040493011]\n",
            "[0.5351965001523494, 0.464803499057889]\n",
            "[0.4549939798414707, 0.5450060207843781]\n",
            "[0.4576749195754528, 0.5423250817060471]\n",
            "[0.5402113478481769, 0.4597886513769627]\n",
            "[0.5631508553624153, 0.4368491439819336]\n",
            "[0.5814205303192138, 0.4185794703066349]\n",
            "[0.499140897244215, 0.5008591042160988]\n",
            "[0.45797308649867774, 0.5420269148349762]\n",
            "[0.4817622099071741, 0.5182377904653549]\n",
            "[0.5459810018837452, 0.45401899760961534]\n",
            "[0.5213800190091133, 0.47861998200416567]\n",
            "[0.5868999399244785, 0.4131000611782074]\n",
            "[0.5412915384471416, 0.45870846217870714]\n",
            "[0.5214765949249267, 0.4785234071314335]\n",
            "[0.48773338916897774, 0.5122666088640689]\n",
            "[0.5522336664497852, 0.4477663324326277]\n",
            "[0.5268658328056336, 0.47313416862487795]\n",
            "[0.4161367776691914, 0.5838632245361804]\n",
            "[0.603353332221508, 0.39664666852355]\n",
            "[0.5233991085886955, 0.47660089179873466]\n",
            "[0.4691498888656497, 0.5308501135408878]\n",
            "[0.6499188600182533, 0.3500811408609152]\n",
            "[0.5224566864967346, 0.4775433146357536]\n",
            "[0.5066517690122128, 0.493348230779171]\n",
            "created cluster is  [18, 89, 24, 98, 86, 95, 57, 52, 42, 11]\n",
            "created cluster is  [62, 43, 77, 28, 16, 78, 83, 48, 75, 1]\n",
            "created cluster is  [65, 90, 67, 14, 47, 45, 40, 23, 21, 4]\n",
            "created cluster is  [5, 64, 53, 96, 9, 22, 37, 41, 39, 50]\n",
            "created cluster is  [36, 91, 20, 51, 31, 61, 85, 68, 74, 38]\n",
            "created cluster is  [6, 99, 26, 71, 70, 73, 63, 82, 8, 29]\n",
            "created cluster is  [0, 13, 76, 2, 79, 88, 92, 7, 34, 80]\n",
            "created cluster is  [87, 72, 81, 46, 94, 54, 35, 17, 3, 60]\n",
            "created cluster is  [58, 93, 10, 32, 30, 19, 55, 49, 12, 44]\n",
            "created cluster is  [84, 33, 69, 59, 25, 15, 56, 97, 27, 66]\n",
            "[0, 62, 0, 87, 65, 5, 6, 0, 6, 5, 58, 18, 58, 0, 65, 84, 62, 87, 18, 58, 36, 65, 5, 65, 18, 84, 6, 84, 62, 6, 58, 36, 58, 84, 0, 87, 36, 5, 36, 5, 65, 5, 18, 62, 58, 65, 87, 65, 62, 58, 5, 36, 18, 5, 87, 58, 84, 18, 58, 84, 87, 36, 62, 6, 5, 65, 84, 65, 36, 84, 6, 6, 87, 6, 36, 62, 0, 62, 62, 0, 0, 87, 6, 62, 84, 36, 18, 87, 0, 18, 65, 36, 0, 58, 87, 18, 5, 84, 18, 6]\n"
          ],
          "name": "stdout"
        }
      ]
    },
    {
      "cell_type": "code",
      "metadata": {
        "id": "dx8BwqP1eD91"
      },
      "source": [
        ""
      ],
      "execution_count": 77,
      "outputs": []
    }
  ]
}